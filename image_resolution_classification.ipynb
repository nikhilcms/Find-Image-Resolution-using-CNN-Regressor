{
  "nbformat": 4,
  "nbformat_minor": 0,
  "metadata": {
    "colab": {
      "name": "image_resolution_classification.ipynb",
      "provenance": [],
      "collapsed_sections": [],
      "include_colab_link": true
    },
    "kernelspec": {
      "name": "python3",
      "display_name": "Python 3"
    },
    "accelerator": "GPU"
  },
  "cells": [
    {
      "cell_type": "markdown",
      "metadata": {
        "id": "view-in-github",
        "colab_type": "text"
      },
      "source": [
        "<a href=\"https://colab.research.google.com/github/nikhilcms/Find-Image-Resolution-using-CNN-Regressor/blob/master/image_resolution_classification.ipynb\" target=\"_parent\"><img src=\"https://colab.research.google.com/assets/colab-badge.svg\" alt=\"Open In Colab\"/></a>"
      ]
    },
    {
      "cell_type": "code",
      "metadata": {
        "id": "lTsE1vn279gg"
      },
      "source": [
        "!pip install -U -q PyDrive\n",
        "from pydrive.auth import GoogleAuth\n",
        "from pydrive.drive import GoogleDrive\n",
        "from google.colab import auth\n",
        "from oauth2client.client import GoogleCredentials\n",
        "auth.authenticate_user()\n",
        "gauth = GoogleAuth()\n",
        "gauth.credentials = GoogleCredentials.get_application_default()\n",
        "drive = GoogleDrive(gauth)\n",
        "\n",
        "drive = GoogleDrive(gauth)\n",
        "downloaded = drive.CreateFile({'id':'1Hi_4sujlr-_ZlWl2YPXWS44lAT-cnvD6'})\n",
        "downloaded.GetContentFile('training_data1.csv') \n",
        "downloaded2 = drive.CreateFile({'id':'1BUY0px8PkKQexlr3cA-hJjYq0hKqm7H7'})\n",
        "downloaded2.GetContentFile('training_data2.csv')\n",
        "downloaded2 = drive.CreateFile({'id':'1r2mJDTWDWInwE0TA9EKrGPxJIi0jMpW9'})\n",
        "downloaded2.GetContentFile('training_data3.csv')\n",
        "downloaded2 = drive.CreateFile({'id':'1DFN3y_beqdu6Dk0_ugmjgzHCe2hBMHSW'})\n",
        "downloaded2.GetContentFile('training_data4.csv')\n",
        "downloaded2 = drive.CreateFile({'id':'1Vu8wy_6waquJq-5HUE5g9pfcrTf9AoXU'})\n",
        "downloaded2.GetContentFile('training_data5.csv')\n",
        "downloaded2 = drive.CreateFile({'id':'1UAz6u-dbQcU14Wbvt5aKQz8w1hzB0u8U'})\n",
        "downloaded2.GetContentFile('training_data6.csv')\n",
        "downloaded2 = drive.CreateFile({'id':'1N3yPPDBbVS-S3XuWthnKlEo8pJUIwQaP'})\n",
        "downloaded2.GetContentFile('training_data7.csv')\n",
        "\n",
        "downloaded2 = drive.CreateFile({'id':'1hNWX3OXWP21jBy5CExP6CCEEoURi3LLA'})\n",
        "downloaded2.GetContentFile('testing_data.csv')"
      ],
      "execution_count": null,
      "outputs": []
    },
    {
      "cell_type": "code",
      "metadata": {
        "id": "atTaCBdkSuxi"
      },
      "source": [
        "#! pip install Keras==2.1.6"
      ],
      "execution_count": null,
      "outputs": []
    },
    {
      "cell_type": "code",
      "metadata": {
        "id": "RV9GA-M--HAU"
      },
      "source": [
        "import numpy as np\n",
        "import pandas as pd\n",
        "import matplotlib.pyplot as plt\n",
        "import seaborn as sns\n",
        "train_data1 = pd.read_csv(\"training_data1.csv\")\n",
        "train_data2 = pd.read_csv(\"training_data2.csv\")\n",
        "train_data3 = pd.read_csv(\"training_data3.csv\")\n",
        "train_data4 = pd.read_csv(\"training_data4.csv\")\n",
        "train_data5 = pd.read_csv(\"training_data5.csv\")\n",
        "train_data6 = pd.read_csv(\"training_data6.csv\")\n",
        "train_data7 = pd.read_csv(\"training_data7.csv\")\n",
        "test_data = pd.read_csv(\"testing_data.csv\")"
      ],
      "execution_count": null,
      "outputs": []
    },
    {
      "cell_type": "code",
      "metadata": {
        "id": "88PPqknfArVK"
      },
      "source": [
        "train_data = pd.concat([train_data1,train_data2,train_data3,train_data4,train_data5,train_data6,train_data7],axis=0).reset_index()"
      ],
      "execution_count": null,
      "outputs": []
    },
    {
      "cell_type": "code",
      "metadata": {
        "id": "oPayCB7BNJwp"
      },
      "source": [
        "train_data.drop(\"index\",axis=1,inplace=True)\n"
      ],
      "execution_count": null,
      "outputs": []
    },
    {
      "cell_type": "code",
      "metadata": {
        "id": "T2_rgqT_cAuU",
        "colab": {
          "base_uri": "https://localhost:8080/",
          "height": 285
        },
        "outputId": "cbe88901-8b36-4485-a20c-74cacfcda2de"
      },
      "source": [
        "from PIL import Image\n",
        "image = train_data.iloc[np.random.randint(18059),0:4096]\n",
        "image = np.array(image,dtype=\"int64\").reshape(64,64)\n",
        "plt.imshow(image,interpolation=\"none\",cmap=\"gray\")"
      ],
      "execution_count": null,
      "outputs": [
        {
          "output_type": "execute_result",
          "data": {
            "text/plain": [
              "<matplotlib.image.AxesImage at 0x7fa2e5f2ab00>"
            ]
          },
          "metadata": {
            "tags": []
          },
          "execution_count": 6
        },
        {
          "output_type": "display_data",
          "data": {
            "image/png": "[encoded data removed]",
            "text/plain": [
              "<Figure size 432x288 with 1 Axes>"
            ]
          },
          "metadata": {
            "tags": []
          }
        }
      ]
    },
    {
      "cell_type": "code",
      "metadata": {
        "id": "WfqU2oiZBCwe",
        "colab": {
          "base_uri": "https://localhost:8080/",
          "height": 34
        },
        "outputId": "6fcb2a68-b74c-4491-acc2-3441878dcf7d"
      },
      "source": [
        "train_data.shape"
      ],
      "execution_count": null,
      "outputs": [
        {
          "output_type": "execute_result",
          "data": {
            "text/plain": [
              "(18059, 4097)"
            ]
          },
          "metadata": {
            "tags": []
          },
          "execution_count": 7
        }
      ]
    },
    {
      "cell_type": "code",
      "metadata": {
        "id": "fN-MTfcbBLHk",
        "colab": {
          "base_uri": "https://localhost:8080/",
          "height": 34
        },
        "outputId": "d299afb3-c0a5-405f-f519-ea5e3ee47735"
      },
      "source": [
        "test_data.shape"
      ],
      "execution_count": null,
      "outputs": [
        {
          "output_type": "execute_result",
          "data": {
            "text/plain": [
              "(2261, 4097)"
            ]
          },
          "metadata": {
            "tags": []
          },
          "execution_count": 8
        }
      ]
    },
    {
      "cell_type": "code",
      "metadata": {
        "id": "AwYud1O0BNz1",
        "colab": {
          "base_uri": "https://localhost:8080/",
          "height": 225
        },
        "outputId": "d80b4964-1cdd-468a-f809-108714ebbfe0"
      },
      "source": [
        "train_data[\"target\"].value_counts()"
      ],
      "execution_count": null,
      "outputs": [
        {
          "output_type": "execute_result",
          "data": {
            "text/plain": [
              "33    486\n",
              "77    479\n",
              "36    399\n",
              "45    394\n",
              "95    380\n",
              "     ... \n",
              "27     50\n",
              "57     50\n",
              "15     49\n",
              "29     24\n",
              "51      5\n",
              "Name: target, Length: 86, dtype: int64"
            ]
          },
          "metadata": {
            "tags": []
          },
          "execution_count": 9
        }
      ]
    },
    {
      "cell_type": "code",
      "metadata": {
        "id": "GlgDhPT0BXOe",
        "colab": {
          "base_uri": "https://localhost:8080/",
          "height": 746
        },
        "outputId": "50afbe65-f9bd-4a5a-eba0-575703c83612"
      },
      "source": [
        "test_data[\"target\"].value_counts()"
      ],
      "execution_count": null,
      "outputs": [
        {
          "output_type": "execute_result",
          "data": {
            "text/plain": [
              "52    148\n",
              "2     115\n",
              "29    108\n",
              "45    100\n",
              "91    100\n",
              "90    100\n",
              "20     99\n",
              "60     99\n",
              "69     79\n",
              "12     76\n",
              "96     66\n",
              "36     63\n",
              "92     51\n",
              "34     50\n",
              "35     50\n",
              "81     50\n",
              "23     50\n",
              "61     50\n",
              "40     50\n",
              "50     50\n",
              "78     50\n",
              "83     50\n",
              "24     50\n",
              "68     50\n",
              "17     50\n",
              "58     49\n",
              "75     49\n",
              "74     49\n",
              "15     49\n",
              "77     49\n",
              "63     49\n",
              "16     48\n",
              "26     42\n",
              "54     30\n",
              "55     15\n",
              "72      9\n",
              "85      5\n",
              "48      5\n",
              "94      5\n",
              "46      2\n",
              "65      2\n",
              "Name: target, dtype: int64"
            ]
          },
          "metadata": {
            "tags": []
          },
          "execution_count": 10
        }
      ]
    },
    {
      "cell_type": "code",
      "metadata": {
        "id": "N4VQ0LHFFUQJ"
      },
      "source": [
        "train_ddata = train_data/255.0\n",
        "test_ddata = test_data/255.0"
      ],
      "execution_count": null,
      "outputs": []
    },
    {
      "cell_type": "code",
      "metadata": {
        "id": "7LPRRm5vKiiA",
        "colab": {
          "base_uri": "https://localhost:8080/",
          "height": 81
        },
        "outputId": "82e9fb9f-39a1-47d6-b52b-982a69f60c60"
      },
      "source": [
        "from pandas import read_csv\n",
        "from keras.models import Sequential\n",
        "from keras.layers import Dense\n",
        "from keras.wrappers.scikit_learn import KerasRegressor\n",
        "from sklearn.model_selection import cross_val_score\n",
        "from sklearn.model_selection import KFold\n",
        "from sklearn.preprocessing import StandardScaler,normalize\n",
        "from sklearn.pipeline import Pipeline\n",
        "from keras.layers import Convolution2D,MaxPooling2D,Dropout,Flatten,Dense,BatchNormalization\n",
        "from keras.optimizers import adam\n",
        "from keras import optimizers\n",
        "from keras.losses import mean_squared_error\n",
        "from keras.preprocessing.image import ImageDataGenerator"
      ],
      "execution_count": null,
      "outputs": [
        {
          "output_type": "stream",
          "text": [
            "Using TensorFlow backend.\n"
          ],
          "name": "stderr"
        },
        {
          "output_type": "display_data",
          "data": {
            "text/html": [
              "<p style=\"color: red;\">\n",
              "The default version of TensorFlow in Colab will soon switch to TensorFlow 2.x.<br>\n",
              "We recommend you <a href=\"https://www.tensorflow.org/guide/migrate\" target=\"_blank\">upgrade</a> now \n",
              "or ensure your notebook will continue to use TensorFlow 1.x via the <code>%tensorflow_version 1.x</code> magic:\n",
              "<a href=\"https://colab.research.google.com/notebooks/tensorflow_version.ipynb\" target=\"_blank\">more info</a>.</p>\n"
            ],
            "text/plain": [
              "<IPython.core.display.HTML object>"
            ]
          },
          "metadata": {
            "tags": []
          }
        }
      ]
    },
    {
      "cell_type": "code",
      "metadata": {
        "id": "FNg8NVzzLmPJ"
      },
      "source": [
        "train_x = train_ddata.drop(\"target\",axis=1).values\n",
        "train_y = train_data.target.values\n",
        "test_x = test_ddata.drop(\"target\",axis=1).values\n",
        "test_y = test_data.target.values"
      ],
      "execution_count": null,
      "outputs": []
    },
    {
      "cell_type": "code",
      "metadata": {
        "id": "sSNx1nBRXM_S",
        "colab": {
          "base_uri": "https://localhost:8080/",
          "height": 34
        },
        "outputId": "15f82d7f-3379-4ea1-96e0-773f99e82189"
      },
      "source": [
        "train_y"
      ],
      "execution_count": null,
      "outputs": [
        {
          "output_type": "execute_result",
          "data": {
            "text/plain": [
              "array([46, 48, 58, ..., 74, 82, 78])"
            ]
          },
          "metadata": {
            "tags": []
          },
          "execution_count": 14
        }
      ]
    },
    {
      "cell_type": "code",
      "metadata": {
        "id": "a6KMV-lwnVhy",
        "colab": {
          "base_uri": "https://localhost:8080/",
          "height": 34
        },
        "outputId": "53de2d2e-813e-4851-814f-a46f3442a02a"
      },
      "source": [
        "test_y"
      ],
      "execution_count": null,
      "outputs": [
        {
          "output_type": "execute_result",
          "data": {
            "text/plain": [
              "array([45, 40, 45, ..., 52, 60, 48])"
            ]
          },
          "metadata": {
            "tags": []
          },
          "execution_count": 15
        }
      ]
    },
    {
      "cell_type": "code",
      "metadata": {
        "id": "NxkJOCx1M7a7"
      },
      "source": [
        "train_x = train_x.reshape(18059,64,64)\n",
        "train_target = train_y.reshape(18059,1)\n",
        "test_x = test_x.reshape(2261,64,64)\n",
        "test_target = test_y.reshape(2261,1)"
      ],
      "execution_count": null,
      "outputs": []
    },
    {
      "cell_type": "code",
      "metadata": {
        "id": "5QU79SC7OvRk"
      },
      "source": [
        "#from sklearn.model_selection import train_test_split\n",
        "#X_train,X_test,y_train,y_test = train_test_split(X_data,target,test_size=0.15,stratify=target)\n",
        "X_train = train_x.reshape(train_x.shape[0],64,64,1)\n",
        "X_test = test_x.reshape(test_x.shape[0],64,64,1)\n",
        "y_train = train_target\n",
        "y_test = test_target"
      ],
      "execution_count": null,
      "outputs": []
    },
    {
      "cell_type": "code",
      "metadata": {
        "id": "2jzPV18VXFTP",
        "colab": {
          "base_uri": "https://localhost:8080/",
          "height": 139
        },
        "outputId": "20f6696b-7003-4fd6-e980-0b3b24607799"
      },
      "source": [
        "y_train"
      ],
      "execution_count": null,
      "outputs": [
        {
          "output_type": "execute_result",
          "data": {
            "text/plain": [
              "array([[46],\n",
              "       [48],\n",
              "       [58],\n",
              "       ...,\n",
              "       [74],\n",
              "       [82],\n",
              "       [78]])"
            ]
          },
          "metadata": {
            "tags": []
          },
          "execution_count": 18
        }
      ]
    },
    {
      "cell_type": "code",
      "metadata": {
        "id": "NkRuUjMtVuMC",
        "colab": {
          "base_uri": "https://localhost:8080/",
          "height": 211
        },
        "outputId": "8915226f-8735-49ab-e6b6-35aa580c13bb"
      },
      "source": [
        "from keras import backend as K\n",
        "def coeff_determination(y_true, y_pred):\n",
        "    SS_res =  K.sum(K.square( y_true-y_pred )) \n",
        "    SS_tot = K.sum(K.square( y_true - K.mean(y_true) ) ) \n",
        "    return ( 1 - SS_res/(SS_tot + K.epsilon()) )\n",
        "\n",
        "from keras import optimizers\n",
        "model = Sequential()\n",
        "model.add(Convolution2D(16,kernel_size=(5,5),activation=\"relu\",input_shape=(64,64,1)))\n",
        "model.add(MaxPooling2D(pool_size=(2,2),strides= 2))\n",
        "model.add(Convolution2D(16,kernel_size=(5,5),activation=\"relu\"))\n",
        "model.add(MaxPooling2D(pool_size=(2,2),strides= 2))\n",
        "model.add(Convolution2D(32,kernel_size=(3,3),activation=\"relu\"))\n",
        "model.add(MaxPooling2D(pool_size=(2,2),strides= 2))\n",
        "model.add(Convolution2D(32,kernel_size=(3,3),activation=\"relu\"))\n",
        "model.add(MaxPooling2D(pool_size=(2,2),strides= 2))\n",
        "model.add(Flatten())\n",
        "model.add(Dense(256, activation='relu'))\n",
        "model.add(Dense(1, kernel_initializer='normal'))"
      ],
      "execution_count": null,
      "outputs": [
        {
          "output_type": "stream",
          "text": [
            "WARNING:tensorflow:From /usr/local/lib/python3.6/dist-packages/keras/backend/tensorflow_backend.py:66: The name tf.get_default_graph is deprecated. Please use tf.compat.v1.get_default_graph instead.\n",
            "\n",
            "WARNING:tensorflow:From /usr/local/lib/python3.6/dist-packages/keras/backend/tensorflow_backend.py:541: The name tf.placeholder is deprecated. Please use tf.compat.v1.placeholder instead.\n",
            "\n",
            "WARNING:tensorflow:From /usr/local/lib/python3.6/dist-packages/keras/backend/tensorflow_backend.py:4432: The name tf.random_uniform is deprecated. Please use tf.random.uniform instead.\n",
            "\n",
            "WARNING:tensorflow:From /usr/local/lib/python3.6/dist-packages/keras/backend/tensorflow_backend.py:4267: The name tf.nn.max_pool is deprecated. Please use tf.nn.max_pool2d instead.\n",
            "\n",
            "WARNING:tensorflow:From /usr/local/lib/python3.6/dist-packages/keras/backend/tensorflow_backend.py:4409: The name tf.random_normal is deprecated. Please use tf.random.normal instead.\n",
            "\n"
          ],
          "name": "stdout"
        }
      ]
    },
    {
      "cell_type": "code",
      "metadata": {
        "id": "vsICJlgKjkwc",
        "colab": {
          "base_uri": "https://localhost:8080/",
          "height": 1000
        },
        "outputId": "2b2c652c-c4ed-4db0-857a-7823fc2d5deb"
      },
      "source": [
        "#================================Using Adam Optimizer============================#\n",
        "adam = optimizers.adam(lr=0.001, decay=1e-6)\n",
        "model.compile(loss=\"mean_squared_error\",optimizer= adam,metrics=[\"accuracy\",coeff_determination])\n",
        "history = model.fit(X_train,y_train,batch_size=128,epochs=45,verbose=1,validation_data=(X_test, y_test))"
      ],
      "execution_count": null,
      "outputs": [
        {
          "output_type": "stream",
          "text": [
            "WARNING:tensorflow:From /usr/local/lib/python3.6/dist-packages/keras/optimizers.py:793: The name tf.train.Optimizer is deprecated. Please use tf.compat.v1.train.Optimizer instead.\n",
            "\n",
            "WARNING:tensorflow:From /usr/local/lib/python3.6/dist-packages/keras/backend/tensorflow_backend.py:1033: The name tf.assign_add is deprecated. Please use tf.compat.v1.assign_add instead.\n",
            "\n",
            "WARNING:tensorflow:From /usr/local/lib/python3.6/dist-packages/keras/backend/tensorflow_backend.py:1020: The name tf.assign is deprecated. Please use tf.compat.v1.assign instead.\n",
            "\n",
            "WARNING:tensorflow:From /usr/local/lib/python3.6/dist-packages/keras/backend/tensorflow_backend.py:3005: The name tf.Session is deprecated. Please use tf.compat.v1.Session instead.\n",
            "\n",
            "Train on 18059 samples, validate on 2261 samples\n",
            "Epoch 1/45\n",
            "WARNING:tensorflow:From /usr/local/lib/python3.6/dist-packages/keras/backend/tensorflow_backend.py:190: The name tf.get_default_session is deprecated. Please use tf.compat.v1.get_default_session instead.\n",
            "\n",
            "WARNING:tensorflow:From /usr/local/lib/python3.6/dist-packages/keras/backend/tensorflow_backend.py:197: The name tf.ConfigProto is deprecated. Please use tf.compat.v1.ConfigProto instead.\n",
            "\n",
            "WARNING:tensorflow:From /usr/local/lib/python3.6/dist-packages/keras/backend/tensorflow_backend.py:207: The name tf.global_variables is deprecated. Please use tf.compat.v1.global_variables instead.\n",
            "\n",
            "WARNING:tensorflow:From /usr/local/lib/python3.6/dist-packages/keras/backend/tensorflow_backend.py:216: The name tf.is_variable_initialized is deprecated. Please use tf.compat.v1.is_variable_initialized instead.\n",
            "\n",
            "WARNING:tensorflow:From /usr/local/lib/python3.6/dist-packages/keras/backend/tensorflow_backend.py:223: The name tf.variables_initializer is deprecated. Please use tf.compat.v1.variables_initializer instead.\n",
            "\n",
            "18059/18059 [==============================] - 12s 689us/step - loss: 978.1182 - acc: 0.0102 - coeff_determination: -0.5627 - val_loss: 506.0067 - val_acc: 0.0159 - val_coeff_determination: 0.3241\n",
            "Epoch 2/45\n",
            "18059/18059 [==============================] - 5s 269us/step - loss: 365.8573 - acc: 0.0153 - coeff_determination: 0.4143 - val_loss: 380.8621 - val_acc: 0.0159 - val_coeff_determination: 0.4913\n",
            "Epoch 3/45\n",
            "18059/18059 [==============================] - 5s 265us/step - loss: 295.3777 - acc: 0.0194 - coeff_determination: 0.5271 - val_loss: 382.1797 - val_acc: 0.0168 - val_coeff_determination: 0.4897\n",
            "Epoch 4/45\n",
            "18059/18059 [==============================] - 5s 268us/step - loss: 268.7793 - acc: 0.0213 - coeff_determination: 0.5698 - val_loss: 333.5069 - val_acc: 0.0159 - val_coeff_determination: 0.5549\n",
            "Epoch 5/45\n",
            "18059/18059 [==============================] - 5s 266us/step - loss: 244.2564 - acc: 0.0231 - coeff_determination: 0.6101 - val_loss: 287.1168 - val_acc: 0.0177 - val_coeff_determination: 0.6169\n",
            "Epoch 6/45\n",
            "18059/18059 [==============================] - 5s 267us/step - loss: 240.4094 - acc: 0.0242 - coeff_determination: 0.6158 - val_loss: 270.4264 - val_acc: 0.0203 - val_coeff_determination: 0.6392\n",
            "Epoch 7/45\n",
            "18059/18059 [==============================] - 5s 268us/step - loss: 218.2639 - acc: 0.0282 - coeff_determination: 0.6510 - val_loss: 296.3111 - val_acc: 0.0102 - val_coeff_determination: 0.6028\n",
            "Epoch 8/45\n",
            "18059/18059 [==============================] - 5s 266us/step - loss: 180.5732 - acc: 0.0308 - coeff_determination: 0.7114 - val_loss: 198.9239 - val_acc: 0.0407 - val_coeff_determination: 0.7345\n",
            "Epoch 9/45\n",
            "18059/18059 [==============================] - 5s 268us/step - loss: 157.5173 - acc: 0.0372 - coeff_determination: 0.7482 - val_loss: 172.3358 - val_acc: 0.0380 - val_coeff_determination: 0.7699\n",
            "Epoch 10/45\n",
            "18059/18059 [==============================] - 5s 271us/step - loss: 157.5904 - acc: 0.0377 - coeff_determination: 0.7482 - val_loss: 197.5045 - val_acc: 0.0628 - val_coeff_determination: 0.7364\n",
            "Epoch 11/45\n",
            "18059/18059 [==============================] - 5s 282us/step - loss: 140.3642 - acc: 0.0354 - coeff_determination: 0.7760 - val_loss: 159.2110 - val_acc: 0.0544 - val_coeff_determination: 0.7874\n",
            "Epoch 12/45\n",
            "18059/18059 [==============================] - 5s 282us/step - loss: 138.9594 - acc: 0.0363 - coeff_determination: 0.7776 - val_loss: 151.2966 - val_acc: 0.0478 - val_coeff_determination: 0.7977\n",
            "Epoch 13/45\n",
            "18059/18059 [==============================] - 5s 280us/step - loss: 131.3671 - acc: 0.0382 - coeff_determination: 0.7895 - val_loss: 151.5010 - val_acc: 0.0411 - val_coeff_determination: 0.7978\n",
            "Epoch 14/45\n",
            "18059/18059 [==============================] - 5s 282us/step - loss: 123.7527 - acc: 0.0429 - coeff_determination: 0.8019 - val_loss: 139.0764 - val_acc: 0.0292 - val_coeff_determination: 0.8137\n",
            "Epoch 15/45\n",
            "18059/18059 [==============================] - 5s 280us/step - loss: 121.6893 - acc: 0.0421 - coeff_determination: 0.8055 - val_loss: 153.5823 - val_acc: 0.0531 - val_coeff_determination: 0.7950\n",
            "Epoch 16/45\n",
            "18059/18059 [==============================] - 5s 281us/step - loss: 122.7537 - acc: 0.0408 - coeff_determination: 0.8040 - val_loss: 135.9101 - val_acc: 0.0548 - val_coeff_determination: 0.8181\n",
            "Epoch 17/45\n",
            "18059/18059 [==============================] - 5s 284us/step - loss: 118.8490 - acc: 0.0428 - coeff_determination: 0.8099 - val_loss: 138.0059 - val_acc: 0.0615 - val_coeff_determination: 0.8153\n",
            "Epoch 18/45\n",
            "18059/18059 [==============================] - 5s 283us/step - loss: 117.6623 - acc: 0.0441 - coeff_determination: 0.8121 - val_loss: 131.3478 - val_acc: 0.0349 - val_coeff_determination: 0.8236\n",
            "Epoch 19/45\n",
            "18059/18059 [==============================] - 5s 282us/step - loss: 118.8808 - acc: 0.0445 - coeff_determination: 0.8097 - val_loss: 174.9972 - val_acc: 0.0124 - val_coeff_determination: 0.7644\n",
            "Epoch 20/45\n",
            "18059/18059 [==============================] - 5s 281us/step - loss: 113.7336 - acc: 0.0431 - coeff_determination: 0.8187 - val_loss: 140.0472 - val_acc: 0.0610 - val_coeff_determination: 0.8130\n",
            "Epoch 21/45\n",
            "18059/18059 [==============================] - 5s 283us/step - loss: 106.6660 - acc: 0.0483 - coeff_determination: 0.8301 - val_loss: 130.2917 - val_acc: 0.0243 - val_coeff_determination: 0.8254\n",
            "Epoch 22/45\n",
            "18059/18059 [==============================] - 5s 281us/step - loss: 104.7479 - acc: 0.0456 - coeff_determination: 0.8323 - val_loss: 116.4920 - val_acc: 0.0619 - val_coeff_determination: 0.8440\n",
            "Epoch 23/45\n",
            "18059/18059 [==============================] - 5s 285us/step - loss: 103.3318 - acc: 0.0486 - coeff_determination: 0.8344 - val_loss: 120.1293 - val_acc: 0.0438 - val_coeff_determination: 0.8392\n",
            "Epoch 24/45\n",
            "18059/18059 [==============================] - 5s 284us/step - loss: 103.6937 - acc: 0.0478 - coeff_determination: 0.8341 - val_loss: 162.6737 - val_acc: 0.0150 - val_coeff_determination: 0.7821\n",
            "Epoch 25/45\n",
            "18059/18059 [==============================] - 5s 283us/step - loss: 110.8307 - acc: 0.0491 - coeff_determination: 0.8231 - val_loss: 129.4715 - val_acc: 0.0513 - val_coeff_determination: 0.8268\n",
            "Epoch 26/45\n",
            "18059/18059 [==============================] - 5s 281us/step - loss: 99.3509 - acc: 0.0515 - coeff_determination: 0.8416 - val_loss: 155.7998 - val_acc: 0.0318 - val_coeff_determination: 0.7916\n",
            "Epoch 27/45\n",
            "18059/18059 [==============================] - 5s 282us/step - loss: 95.2294 - acc: 0.0535 - coeff_determination: 0.8477 - val_loss: 154.4378 - val_acc: 0.0818 - val_coeff_determination: 0.7937\n",
            "Epoch 28/45\n",
            "18059/18059 [==============================] - 5s 286us/step - loss: 97.9635 - acc: 0.0489 - coeff_determination: 0.8435 - val_loss: 107.6338 - val_acc: 0.0416 - val_coeff_determination: 0.8555\n",
            "Epoch 29/45\n",
            "18059/18059 [==============================] - 5s 284us/step - loss: 95.5785 - acc: 0.0518 - coeff_determination: 0.8473 - val_loss: 176.0000 - val_acc: 0.0416 - val_coeff_determination: 0.7649\n",
            "Epoch 30/45\n",
            "18059/18059 [==============================] - 5s 282us/step - loss: 96.9211 - acc: 0.0512 - coeff_determination: 0.8458 - val_loss: 189.9966 - val_acc: 0.0650 - val_coeff_determination: 0.7462\n",
            "Epoch 31/45\n",
            "18059/18059 [==============================] - 5s 283us/step - loss: 96.2785 - acc: 0.0501 - coeff_determination: 0.8462 - val_loss: 116.5049 - val_acc: 0.0318 - val_coeff_determination: 0.8430\n",
            "Epoch 32/45\n",
            "18059/18059 [==============================] - 5s 284us/step - loss: 92.7222 - acc: 0.0534 - coeff_determination: 0.8513 - val_loss: 211.7403 - val_acc: 0.0133 - val_coeff_determination: 0.7139\n",
            "Epoch 33/45\n",
            "18059/18059 [==============================] - 5s 283us/step - loss: 93.7655 - acc: 0.0520 - coeff_determination: 0.8497 - val_loss: 119.1820 - val_acc: 0.0655 - val_coeff_determination: 0.8406\n",
            "Epoch 34/45\n",
            "18059/18059 [==============================] - 5s 283us/step - loss: 94.3959 - acc: 0.0517 - coeff_determination: 0.8490 - val_loss: 106.6094 - val_acc: 0.0602 - val_coeff_determination: 0.8567\n",
            "Epoch 35/45\n",
            "18059/18059 [==============================] - 5s 282us/step - loss: 92.3807 - acc: 0.0512 - coeff_determination: 0.8521 - val_loss: 137.9842 - val_acc: 0.0517 - val_coeff_determination: 0.8156\n",
            "Epoch 36/45\n",
            "18059/18059 [==============================] - 5s 285us/step - loss: 89.4656 - acc: 0.0521 - coeff_determination: 0.8569 - val_loss: 183.5041 - val_acc: 0.0646 - val_coeff_determination: 0.7548\n",
            "Epoch 37/45\n",
            "18059/18059 [==============================] - 5s 282us/step - loss: 91.2066 - acc: 0.0511 - coeff_determination: 0.8536 - val_loss: 278.3916 - val_acc: 0.0084 - val_coeff_determination: 0.6259\n",
            "Epoch 38/45\n",
            "18059/18059 [==============================] - 5s 284us/step - loss: 97.1696 - acc: 0.0513 - coeff_determination: 0.8443 - val_loss: 103.4651 - val_acc: 0.0535 - val_coeff_determination: 0.8606\n",
            "Epoch 39/45\n",
            "18059/18059 [==============================] - 5s 284us/step - loss: 86.3801 - acc: 0.0539 - coeff_determination: 0.8619 - val_loss: 144.8461 - val_acc: 0.0690 - val_coeff_determination: 0.8064\n",
            "Epoch 40/45\n",
            "18059/18059 [==============================] - 5s 283us/step - loss: 92.4116 - acc: 0.0538 - coeff_determination: 0.8521 - val_loss: 156.0497 - val_acc: 0.0739 - val_coeff_determination: 0.7918\n",
            "Epoch 41/45\n",
            "18059/18059 [==============================] - 5s 287us/step - loss: 85.6655 - acc: 0.0545 - coeff_determination: 0.8630 - val_loss: 139.8880 - val_acc: 0.0624 - val_coeff_determination: 0.8130\n",
            "Epoch 42/45\n",
            "18059/18059 [==============================] - 5s 284us/step - loss: 80.4218 - acc: 0.0570 - coeff_determination: 0.8715 - val_loss: 103.6177 - val_acc: 0.0659 - val_coeff_determination: 0.8612\n",
            "Epoch 43/45\n",
            "18059/18059 [==============================] - 5s 281us/step - loss: 85.7638 - acc: 0.0544 - coeff_determination: 0.8625 - val_loss: 108.3539 - val_acc: 0.0783 - val_coeff_determination: 0.8549\n",
            "Epoch 44/45\n",
            "18059/18059 [==============================] - 5s 281us/step - loss: 88.0021 - acc: 0.0544 - coeff_determination: 0.8596 - val_loss: 124.8015 - val_acc: 0.0456 - val_coeff_determination: 0.8332\n",
            "Epoch 45/45\n",
            "18059/18059 [==============================] - 5s 282us/step - loss: 85.3547 - acc: 0.0524 - coeff_determination: 0.8633 - val_loss: 98.3033 - val_acc: 0.0491 - val_coeff_determination: 0.8682\n"
          ],
          "name": "stdout"
        }
      ]
    },
    {
      "cell_type": "code",
      "metadata": {
        "id": "qpLL9JSdRQik",
        "colab": {
          "base_uri": "https://localhost:8080/",
          "height": 538
        },
        "outputId": "301b8464-9536-424a-d7c6-cd70b9be680d"
      },
      "source": [
        "model.summary()"
      ],
      "execution_count": null,
      "outputs": [
        {
          "output_type": "stream",
          "text": [
            "Model: \"sequential_1\"\n",
            "_________________________________________________________________\n",
            "Layer (type)                 Output Shape              Param #   \n",
            "=================================================================\n",
            "conv2d_1 (Conv2D)            (None, 60, 60, 16)        416       \n",
            "_________________________________________________________________\n",
            "max_pooling2d_1 (MaxPooling2 (None, 30, 30, 16)        0         \n",
            "_________________________________________________________________\n",
            "conv2d_2 (Conv2D)            (None, 26, 26, 16)        6416      \n",
            "_________________________________________________________________\n",
            "max_pooling2d_2 (MaxPooling2 (None, 13, 13, 16)        0         \n",
            "_________________________________________________________________\n",
            "conv2d_3 (Conv2D)            (None, 11, 11, 32)        4640      \n",
            "_________________________________________________________________\n",
            "max_pooling2d_3 (MaxPooling2 (None, 5, 5, 32)          0         \n",
            "_________________________________________________________________\n",
            "conv2d_4 (Conv2D)            (None, 3, 3, 32)          9248      \n",
            "_________________________________________________________________\n",
            "max_pooling2d_4 (MaxPooling2 (None, 1, 1, 32)          0         \n",
            "_________________________________________________________________\n",
            "flatten_1 (Flatten)          (None, 32)                0         \n",
            "_________________________________________________________________\n",
            "dense_1 (Dense)              (None, 256)               8448      \n",
            "_________________________________________________________________\n",
            "dense_2 (Dense)              (None, 1)                 257       \n",
            "=================================================================\n",
            "Total params: 29,425\n",
            "Trainable params: 29,425\n",
            "Non-trainable params: 0\n",
            "_________________________________________________________________\n"
          ],
          "name": "stdout"
        }
      ]
    },
    {
      "cell_type": "code",
      "metadata": {
        "id": "Y3mHlZtbbYzd",
        "colab": {
          "base_uri": "https://localhost:8080/",
          "height": 404
        },
        "outputId": "ba42880f-8eb2-477a-cb7d-16695cb4f9e9"
      },
      "source": [
        "#=======================plot of the loss function vs epoch number for the training set and the test set===================#\n",
        "plt.figure(figsize=(10,6))\n",
        "plt.plot(history.history['loss'])\n",
        "plt.plot(history.history['val_loss'])\n",
        "plt.title('plot of the loss function vs epoch number')\n",
        "plt.ylabel('loss')\n",
        "plt.xlabel('epoch')\n",
        "plt.legend(['train', 'test'], loc='upper left')\n",
        "plt.show()"
      ],
      "execution_count": null,
      "outputs": [
        {
          "output_type": "display_data",
          "data": {
            "image/png": "[encoded data removed]",
            "text/plain": [
              "<Figure size 720x432 with 1 Axes>"
            ]
          },
          "metadata": {
            "tags": []
          }
        }
      ]
    },
    {
      "cell_type": "code",
      "metadata": {
        "id": "IRVNcqy9adDf",
        "colab": {
          "base_uri": "https://localhost:8080/",
          "height": 404
        },
        "outputId": "7f55f20c-4cf2-4ee9-bddb-38edffbb4fa2"
      },
      "source": [
        "#=====================plot of the training and test R 2 vs epoch number========================#\n",
        "plt.figure(figsize=(10,6))\n",
        "plt.plot(history.history[\"coeff_determination\"])\n",
        "plt.plot(history.history['val_coeff_determination'])\n",
        "plt.title('plot of the training and test R2 Score vs epoch number')\n",
        "plt.ylabel('R_squared')\n",
        "plt.xlabel('epoch')\n",
        "plt.legend(['train', 'test'], loc='upper left')\n",
        "plt.show()"
      ],
      "execution_count": null,
      "outputs": [
        {
          "output_type": "display_data",
          "data": {
            "image/png": "[encoded data removed]",
            "text/plain": [
              "<Figure size 720x432 with 1 Axes>"
            ]
          },
          "metadata": {
            "tags": []
          }
        }
      ]
    },
    {
      "cell_type": "code",
      "metadata": {
        "id": "Mx-D-i_8plKR",
        "colab": {
          "base_uri": "https://localhost:8080/",
          "height": 34
        },
        "outputId": "c34bf3ea-f3b3-4302-c08c-3b564e142c8c"
      },
      "source": [
        "#===================Making table of prediction and actual value==================#\n",
        "prediction = model.predict(X_test)\n",
        "actual = y_test\n",
        "from sklearn.metrics import r2_score,mean_squared_error\n",
        "R2_score = r2_score(actual,prediction)\n",
        "print(\"R2 score for test_dataset is:\",R2_score)\n",
        "model.save('adam_resolution_model.h5')"
      ],
      "execution_count": null,
      "outputs": [
        {
          "output_type": "stream",
          "text": [
            "R2 score for test_dataset is: 0.8697366215148966\n"
          ],
          "name": "stdout"
        }
      ]
    },
    {
      "cell_type": "code",
      "metadata": {
        "id": "KajRDpqKWy1l",
        "colab": {
          "base_uri": "https://localhost:8080/",
          "height": 139
        },
        "outputId": "ff2398f4-ea5f-4b3e-f5da-7bd428598954"
      },
      "source": [
        "prediction"
      ],
      "execution_count": null,
      "outputs": [
        {
          "output_type": "execute_result",
          "data": {
            "text/plain": [
              "array([[55.364105],\n",
              "       [45.81534 ],\n",
              "       [42.56709 ],\n",
              "       ...,\n",
              "       [56.803314],\n",
              "       [69.77859 ],\n",
              "       [54.270916]], dtype=float32)"
            ]
          },
          "metadata": {
            "tags": []
          },
          "execution_count": 25
        }
      ]
    },
    {
      "cell_type": "code",
      "metadata": {
        "id": "U0bdd4RwkblJ"
      },
      "source": [
        "from google.colab import files"
      ],
      "execution_count": null,
      "outputs": []
    },
    {
      "cell_type": "code",
      "metadata": {
        "id": "XEsXzCmraU3B",
        "colab": {
          "base_uri": "https://localhost:8080/",
          "height": 206
        },
        "outputId": "7b18af9d-ec99-4ca6-eac5-20c1c4d1aef5"
      },
      "source": [
        "#===============making dataframe of actual,prediction for y_test=============#\n",
        "prediction = prediction.astype(\"int64\")\n",
        "output = pd.concat([pd.DataFrame(prediction),pd.DataFrame(actual)],axis=1)\n",
        "output.columns = [\"Y_predict\",\"Y_acutal\"]\n",
        "output.to_csv(\"adam_y_pred_actual_table.csv\",index=None)\n",
        "output.head()\n",
        "#files.download(\"adam_y_pred_actual_table.csv\") "
      ],
      "execution_count": null,
      "outputs": [
        {
          "output_type": "execute_result",
          "data": {
            "text/html": [
              "<div>\n",
              "<style scoped>\n",
              "    .dataframe tbody tr th:only-of-type {\n",
              "        vertical-align: middle;\n",
              "    }\n",
              "\n",
              "    .dataframe tbody tr th {\n",
              "        vertical-align: top;\n",
              "    }\n",
              "\n",
              "    .dataframe thead th {\n",
              "        text-align: right;\n",
              "    }\n",
              "</style>\n",
              "<table border=\"1\" class=\"dataframe\">\n",
              "  <thead>\n",
              "    <tr style=\"text-align: right;\">\n",
              "      <th></th>\n",
              "      <th>Y_predict</th>\n",
              "      <th>Y_acutal</th>\n",
              "    </tr>\n",
              "  </thead>\n",
              "  <tbody>\n",
              "    <tr>\n",
              "      <th>0</th>\n",
              "      <td>55</td>\n",
              "      <td>45</td>\n",
              "    </tr>\n",
              "    <tr>\n",
              "      <th>1</th>\n",
              "      <td>45</td>\n",
              "      <td>40</td>\n",
              "    </tr>\n",
              "    <tr>\n",
              "      <th>2</th>\n",
              "      <td>42</td>\n",
              "      <td>45</td>\n",
              "    </tr>\n",
              "    <tr>\n",
              "      <th>3</th>\n",
              "      <td>73</td>\n",
              "      <td>69</td>\n",
              "    </tr>\n",
              "    <tr>\n",
              "      <th>4</th>\n",
              "      <td>73</td>\n",
              "      <td>69</td>\n",
              "    </tr>\n",
              "  </tbody>\n",
              "</table>\n",
              "</div>"
            ],
            "text/plain": [
              "   Y_predict  Y_acutal\n",
              "0         55        45\n",
              "1         45        40\n",
              "2         42        45\n",
              "3         73        69\n",
              "4         73        69"
            ]
          },
          "metadata": {
            "tags": []
          },
          "execution_count": 34
        }
      ]
    },
    {
      "cell_type": "code",
      "metadata": {
        "id": "5mTkmDlbnpFo"
      },
      "source": [
        ""
      ],
      "execution_count": null,
      "outputs": []
    },
    {
      "cell_type": "code",
      "metadata": {
        "id": "CufIrQhgWpwc",
        "colab": {
          "base_uri": "https://localhost:8080/",
          "height": 458
        },
        "outputId": "c0cd102d-0cc8-4501-f036-045e6363d0f8"
      },
      "source": [
        "#=====================Residual vs actual plot===================================#\n",
        "y_residual = actual - prediction\n",
        "y_actual = actual\n",
        "plt.figure(figsize=(11,7))\n",
        "plt.scatter(y_residual,y_actual)\n",
        "plt.title('residual vs actual plot')\n",
        "plt.ylabel('Residuals')\n",
        "plt.xlabel('Actual')\n",
        "#plt.legend(['train', 'test'], loc='upper left')\n",
        "plt.show()"
      ],
      "execution_count": null,
      "outputs": [
        {
          "output_type": "display_data",
          "data": {
            "image/png": "[encoded data removed]",
            "text/plain": [
              "<Figure size 792x504 with 1 Axes>"
            ]
          },
          "metadata": {
            "tags": []
          }
        }
      ]
    },
    {
      "cell_type": "code",
      "metadata": {
        "id": "kk-ReyLq-BiZ",
        "colab": {
          "base_uri": "https://localhost:8080/",
          "height": 206
        },
        "outputId": "2bb14a41-a205-4b20-99ac-dbf2e8ff1995"
      },
      "source": [
        "#====================table of y_actual,y_predict,residual====================#\n",
        "table_two = pd.concat([output,pd.DataFrame(y_residual)],axis=1)\n",
        "table_two.columns = [\"Y_predict\",\"Y_acutal\",\"Residual\"]\n",
        "table_two.to_csv(\"pred_act_residual.csv\",index=None)\n",
        "table_two.head()\n",
        "#files.download(\"pred_act_residual.csv\") "
      ],
      "execution_count": null,
      "outputs": [
        {
          "output_type": "execute_result",
          "data": {
            "text/html": [
              "<div>\n",
              "<style scoped>\n",
              "    .dataframe tbody tr th:only-of-type {\n",
              "        vertical-align: middle;\n",
              "    }\n",
              "\n",
              "    .dataframe tbody tr th {\n",
              "        vertical-align: top;\n",
              "    }\n",
              "\n",
              "    .dataframe thead th {\n",
              "        text-align: right;\n",
              "    }\n",
              "</style>\n",
              "<table border=\"1\" class=\"dataframe\">\n",
              "  <thead>\n",
              "    <tr style=\"text-align: right;\">\n",
              "      <th></th>\n",
              "      <th>Y_predict</th>\n",
              "      <th>Y_acutal</th>\n",
              "      <th>Residual</th>\n",
              "    </tr>\n",
              "  </thead>\n",
              "  <tbody>\n",
              "    <tr>\n",
              "      <th>0</th>\n",
              "      <td>55</td>\n",
              "      <td>45</td>\n",
              "      <td>-10</td>\n",
              "    </tr>\n",
              "    <tr>\n",
              "      <th>1</th>\n",
              "      <td>45</td>\n",
              "      <td>40</td>\n",
              "      <td>-5</td>\n",
              "    </tr>\n",
              "    <tr>\n",
              "      <th>2</th>\n",
              "      <td>42</td>\n",
              "      <td>45</td>\n",
              "      <td>3</td>\n",
              "    </tr>\n",
              "    <tr>\n",
              "      <th>3</th>\n",
              "      <td>73</td>\n",
              "      <td>69</td>\n",
              "      <td>-4</td>\n",
              "    </tr>\n",
              "    <tr>\n",
              "      <th>4</th>\n",
              "      <td>73</td>\n",
              "      <td>69</td>\n",
              "      <td>-4</td>\n",
              "    </tr>\n",
              "  </tbody>\n",
              "</table>\n",
              "</div>"
            ],
            "text/plain": [
              "   Y_predict  Y_acutal  Residual\n",
              "0         55        45       -10\n",
              "1         45        40        -5\n",
              "2         42        45         3\n",
              "3         73        69        -4\n",
              "4         73        69        -4"
            ]
          },
          "metadata": {
            "tags": []
          },
          "execution_count": 36
        }
      ]
    }
  ]
}