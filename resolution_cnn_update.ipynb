{
  "nbformat": 4,
  "nbformat_minor": 0,
  "metadata": {
    "colab": {
      "name": "resolution_cnn_update.ipynb",
      "provenance": [],
      "collapsed_sections": []
    },
    "kernelspec": {
      "name": "python3",
      "display_name": "Python 3"
    },
    "accelerator": "GPU"
  },
  "cells": [
    {
      "cell_type": "code",
      "metadata": {
        "id": "lTsE1vn279gg",
        "colab_type": "code",
        "colab": {}
      },
      "source": [
        "!pip install -U -q PyDrive\n",
        "from pydrive.auth import GoogleAuth\n",
        "from pydrive.drive import GoogleDrive\n",
        "from google.colab import auth\n",
        "from oauth2client.client import GoogleCredentials\n",
        "auth.authenticate_user()\n",
        "gauth = GoogleAuth()\n",
        "gauth.credentials = GoogleCredentials.get_application_default()\n",
        "drive = GoogleDrive(gauth)\n",
        "\n",
        "drive = GoogleDrive(gauth)\n",
        "downloaded = drive.CreateFile({'id':'1Hi_4sujlr-_ZlWl2YPXWS44lAT-cnvD6'})\n",
        "downloaded.GetContentFile('training_data1.csv') \n",
        "downloaded2 = drive.CreateFile({'id':'1BUY0px8PkKQexlr3cA-hJjYq0hKqm7H7'})\n",
        "downloaded2.GetContentFile('training_data2.csv')\n",
        "downloaded2 = drive.CreateFile({'id':'1r2mJDTWDWInwE0TA9EKrGPxJIi0jMpW9'})\n",
        "downloaded2.GetContentFile('training_data3.csv')\n",
        "downloaded2 = drive.CreateFile({'id':'1DFN3y_beqdu6Dk0_ugmjgzHCe2hBMHSW'})\n",
        "downloaded2.GetContentFile('training_data4.csv')\n",
        "downloaded2 = drive.CreateFile({'id':'1Vu8wy_6waquJq-5HUE5g9pfcrTf9AoXU'})\n",
        "downloaded2.GetContentFile('training_data5.csv')\n",
        "downloaded2 = drive.CreateFile({'id':'1UAz6u-dbQcU14Wbvt5aKQz8w1hzB0u8U'})\n",
        "downloaded2.GetContentFile('training_data6.csv')\n",
        "downloaded2 = drive.CreateFile({'id':'1N3yPPDBbVS-S3XuWthnKlEo8pJUIwQaP'})\n",
        "downloaded2.GetContentFile('training_data7.csv')\n",
        "\n",
        "downloaded2 = drive.CreateFile({'id':'1hNWX3OXWP21jBy5CExP6CCEEoURi3LLA'})\n",
        "downloaded2.GetContentFile('testing_data.csv')"
      ],
      "execution_count": 0,
      "outputs": []
    },
    {
      "cell_type": "code",
      "metadata": {
        "id": "atTaCBdkSuxi",
        "colab_type": "code",
        "colab": {}
      },
      "source": [
        "#! pip install Keras==2.1.6"
      ],
      "execution_count": 0,
      "outputs": []
    },
    {
      "cell_type": "code",
      "metadata": {
        "id": "RV9GA-M--HAU",
        "colab_type": "code",
        "colab": {}
      },
      "source": [
        "import numpy as np\n",
        "import pandas as pd\n",
        "import matplotlib.pyplot as plt\n",
        "import seaborn as sns\n",
        "train_data1 = pd.read_csv(\"training_data1.csv\")\n",
        "train_data2 = pd.read_csv(\"training_data2.csv\")\n",
        "train_data3 = pd.read_csv(\"training_data3.csv\")\n",
        "train_data4 = pd.read_csv(\"training_data4.csv\")\n",
        "train_data5 = pd.read_csv(\"training_data5.csv\")\n",
        "train_data6 = pd.read_csv(\"training_data6.csv\")\n",
        "train_data7 = pd.read_csv(\"training_data7.csv\")\n",
        "test_data = pd.read_csv(\"testing_data.csv\")"
      ],
      "execution_count": 0,
      "outputs": []
    },
    {
      "cell_type": "code",
      "metadata": {
        "id": "88PPqknfArVK",
        "colab_type": "code",
        "colab": {}
      },
      "source": [
        "train_data = pd.concat([train_data1,train_data2,train_data3,train_data4,train_data5,train_data6,train_data7],axis=0).reset_index()"
      ],
      "execution_count": 0,
      "outputs": []
    },
    {
      "cell_type": "code",
      "metadata": {
        "id": "oPayCB7BNJwp",
        "colab_type": "code",
        "colab": {}
      },
      "source": [
        "train_data.drop(\"index\",axis=1,inplace=True)\n"
      ],
      "execution_count": 0,
      "outputs": []
    },
    {
      "cell_type": "code",
      "metadata": {
        "id": "T2_rgqT_cAuU",
        "colab_type": "code",
        "outputId": "8254c543-142f-42ed-f704-07d8463f3189",
        "colab": {
          "base_uri": "https://localhost:8080/",
          "height": 285
        }
      },
      "source": [
        "from PIL import Image\n",
        "image = train_data.iloc[np.random.randint(18059),0:4096]\n",
        "image = np.array(image,dtype=\"int64\").reshape(64,64)\n",
        "plt.imshow(image,interpolation=\"none\",cmap=\"gray\")"
      ],
      "execution_count": 34,
      "outputs": [
        {
          "output_type": "execute_result",
          "data": {
            "text/plain": [
              "<matplotlib.image.AxesImage at 0x7fba8e6f6d30>"
            ]
          },
          "metadata": {
            "tags": []
          },
          "execution_count": 34
        },
        {
          "output_type": "display_data",
          "data": {
            "image/png": "[encoded data removed]",
            "text/plain": [
              "<Figure size 432x288 with 1 Axes>"
            ]
          },
          "metadata": {
            "tags": []
          }
        }
      ]
    },
    {
      "cell_type": "code",
      "metadata": {
        "id": "WfqU2oiZBCwe",
        "colab_type": "code",
        "outputId": "8049ca3c-a101-4e73-dcd4-485109753ef5",
        "colab": {
          "base_uri": "https://localhost:8080/",
          "height": 34
        }
      },
      "source": [
        "train_data.shape"
      ],
      "execution_count": 35,
      "outputs": [
        {
          "output_type": "execute_result",
          "data": {
            "text/plain": [
              "(18059, 4097)"
            ]
          },
          "metadata": {
            "tags": []
          },
          "execution_count": 35
        }
      ]
    },
    {
      "cell_type": "code",
      "metadata": {
        "id": "fN-MTfcbBLHk",
        "colab_type": "code",
        "outputId": "f2c4d88b-0bcb-4665-ec58-c243cd9037a0",
        "colab": {
          "base_uri": "https://localhost:8080/",
          "height": 34
        }
      },
      "source": [
        "test_data.shape"
      ],
      "execution_count": 36,
      "outputs": [
        {
          "output_type": "execute_result",
          "data": {
            "text/plain": [
              "(2261, 4097)"
            ]
          },
          "metadata": {
            "tags": []
          },
          "execution_count": 36
        }
      ]
    },
    {
      "cell_type": "code",
      "metadata": {
        "id": "AwYud1O0BNz1",
        "colab_type": "code",
        "outputId": "404ceb14-3d5d-4df6-95f6-7c7aefffcbe6",
        "colab": {
          "base_uri": "https://localhost:8080/",
          "height": 225
        }
      },
      "source": [
        "train_data[\"target\"].value_counts()"
      ],
      "execution_count": 37,
      "outputs": [
        {
          "output_type": "execute_result",
          "data": {
            "text/plain": [
              "33    486\n",
              "77    479\n",
              "36    399\n",
              "45    394\n",
              "95    380\n",
              "     ... \n",
              "27     50\n",
              "57     50\n",
              "15     49\n",
              "29     24\n",
              "51      5\n",
              "Name: target, Length: 86, dtype: int64"
            ]
          },
          "metadata": {
            "tags": []
          },
          "execution_count": 37
        }
      ]
    },
    {
      "cell_type": "code",
      "metadata": {
        "id": "GlgDhPT0BXOe",
        "colab_type": "code",
        "outputId": "395cf966-b38d-4292-fa5e-90c3bd9f742c",
        "colab": {
          "base_uri": "https://localhost:8080/",
          "height": 746
        }
      },
      "source": [
        "test_data[\"target\"].value_counts()"
      ],
      "execution_count": 38,
      "outputs": [
        {
          "output_type": "execute_result",
          "data": {
            "text/plain": [
              "52    148\n",
              "2     115\n",
              "29    108\n",
              "45    100\n",
              "91    100\n",
              "90    100\n",
              "20     99\n",
              "60     99\n",
              "69     79\n",
              "12     76\n",
              "96     66\n",
              "36     63\n",
              "92     51\n",
              "34     50\n",
              "35     50\n",
              "81     50\n",
              "23     50\n",
              "61     50\n",
              "40     50\n",
              "50     50\n",
              "78     50\n",
              "83     50\n",
              "24     50\n",
              "68     50\n",
              "17     50\n",
              "58     49\n",
              "75     49\n",
              "74     49\n",
              "15     49\n",
              "77     49\n",
              "63     49\n",
              "16     48\n",
              "26     42\n",
              "54     30\n",
              "55     15\n",
              "72      9\n",
              "85      5\n",
              "48      5\n",
              "94      5\n",
              "46      2\n",
              "65      2\n",
              "Name: target, dtype: int64"
            ]
          },
          "metadata": {
            "tags": []
          },
          "execution_count": 38
        }
      ]
    },
    {
      "cell_type": "code",
      "metadata": {
        "id": "N4VQ0LHFFUQJ",
        "colab_type": "code",
        "colab": {}
      },
      "source": [
        "train_ddata = train_data/255.0\n",
        "test_ddata = test_data/255.0"
      ],
      "execution_count": 0,
      "outputs": []
    },
    {
      "cell_type": "code",
      "metadata": {
        "id": "7LPRRm5vKiiA",
        "colab_type": "code",
        "colab": {}
      },
      "source": [
        "from pandas import read_csv\n",
        "from keras.models import Sequential\n",
        "from keras.layers import Dense\n",
        "from keras.wrappers.scikit_learn import KerasRegressor\n",
        "from sklearn.model_selection import cross_val_score\n",
        "from sklearn.model_selection import KFold\n",
        "from sklearn.preprocessing import StandardScaler,normalize\n",
        "from sklearn.pipeline import Pipeline\n",
        "from keras.layers import Convolution2D,MaxPooling2D,Dropout,Flatten,Dense,BatchNormalization\n",
        "from keras.optimizers import adam\n",
        "from keras import optimizers\n",
        "from keras.losses import mean_squared_error\n",
        "from keras.preprocessing.image import ImageDataGenerator"
      ],
      "execution_count": 0,
      "outputs": []
    },
    {
      "cell_type": "code",
      "metadata": {
        "id": "FNg8NVzzLmPJ",
        "colab_type": "code",
        "colab": {}
      },
      "source": [
        "train_x = train_ddata.drop(\"target\",axis=1).values\n",
        "train_y = train_ddata.target.values\n",
        "test_x = test_ddata.drop(\"target\",axis=1).values\n",
        "test_y = test_ddata.target.values"
      ],
      "execution_count": 0,
      "outputs": []
    },
    {
      "cell_type": "code",
      "metadata": {
        "id": "a6KMV-lwnVhy",
        "colab_type": "code",
        "outputId": "e1e4c63f-d01d-4345-e6fd-bce0d8d40e42",
        "colab": {
          "base_uri": "https://localhost:8080/",
          "height": 34
        }
      },
      "source": [
        "test_x.shape"
      ],
      "execution_count": 42,
      "outputs": [
        {
          "output_type": "execute_result",
          "data": {
            "text/plain": [
              "(2261, 4096)"
            ]
          },
          "metadata": {
            "tags": []
          },
          "execution_count": 42
        }
      ]
    },
    {
      "cell_type": "code",
      "metadata": {
        "id": "NxkJOCx1M7a7",
        "colab_type": "code",
        "colab": {}
      },
      "source": [
        "train_x = train_x.reshape(18059,64,64)\n",
        "train_target = train_y.reshape(18059,1)\n",
        "test_x = test_x.reshape(2261,64,64)\n",
        "test_target = test_y.reshape(2261,1)"
      ],
      "execution_count": 0,
      "outputs": []
    },
    {
      "cell_type": "code",
      "metadata": {
        "id": "5QU79SC7OvRk",
        "colab_type": "code",
        "colab": {}
      },
      "source": [
        "#from sklearn.model_selection import train_test_split\n",
        "#X_train,X_test,y_train,y_test = train_test_split(X_data,target,test_size=0.15,stratify=target)\n",
        "X_train = train_x.reshape(train_x.shape[0],64,64,1)\n",
        "X_test = test_x.reshape(test_x.shape[0],64,64,1)\n",
        "y_train = train_target\n",
        "y_test = test_target"
      ],
      "execution_count": 0,
      "outputs": []
    },
    {
      "cell_type": "code",
      "metadata": {
        "id": "NkRuUjMtVuMC",
        "colab_type": "code",
        "colab": {}
      },
      "source": [
        "from keras import backend as K\n",
        "def coeff_determination(y_true, y_pred):\n",
        "    SS_res =  K.sum(K.square( y_true-y_pred )) \n",
        "    SS_tot = K.sum(K.square( y_true - K.mean(y_true) ) ) \n",
        "    return ( 1 - SS_res/(SS_tot + K.epsilon()) )\n",
        "\n",
        "\n",
        "model = Sequential()\n",
        "model.add(Convolution2D(16,kernel_size=(5,5),activation=\"relu\",input_shape=(64,64,1)))\n",
        "model.add(MaxPooling2D(pool_size=(2,2),strides= 2))\n",
        "model.add(Convolution2D(16,kernel_size=(5,5),activation=\"relu\"))\n",
        "model.add(MaxPooling2D(pool_size=(2,2),strides= 2))\n",
        "model.add(Convolution2D(32,kernel_size=(3,3),activation=\"relu\"))\n",
        "model.add(MaxPooling2D(pool_size=(2,2),strides= 2))\n",
        "model.add(Convolution2D(32,kernel_size=(3,3),activation=\"relu\"))\n",
        "model.add(MaxPooling2D(pool_size=(2,2),strides= 2))\n",
        "model.add(Flatten())\n",
        "model.add(Dense(256, activation='relu'))\n",
        "model.add(Dense(1, kernel_initializer='normal'))"
      ],
      "execution_count": 0,
      "outputs": []
    },
    {
      "cell_type": "code",
      "metadata": {
        "id": "vsICJlgKjkwc",
        "colab_type": "code",
        "outputId": "f880251f-3c71-4292-9ed1-683ff42cc5f9",
        "colab": {
          "base_uri": "https://localhost:8080/",
          "height": 1000
        }
      },
      "source": [
        "#================================Using Adam Optimizer============================#\n",
        "adam = optimizers.adam(lr=0.001, decay=1e-6)\n",
        "model.compile(loss=\"mean_squared_error\",optimizer= adam,metrics=[\"accuracy\",coeff_determination])\n",
        "history = model.fit(X_train,y_train,batch_size=128,epochs=50,verbose=1,validation_data=(X_test, y_test))"
      ],
      "execution_count": 46,
      "outputs": [
        {
          "output_type": "stream",
          "text": [
            "Train on 18059 samples, validate on 2261 samples\n",
            "Epoch 1/50\n",
            "18059/18059 [==============================] - 3s 165us/step - loss: 0.0061 - acc: 0.0000e+00 - coeff_determination: 0.3610 - val_loss: 0.0049 - val_acc: 0.0000e+00 - val_coeff_determination: 0.5736\n",
            "Epoch 2/50\n",
            "18059/18059 [==============================] - 2s 126us/step - loss: 0.0033 - acc: 0.0000e+00 - coeff_determination: 0.6588 - val_loss: 0.0031 - val_acc: 0.0000e+00 - val_coeff_determination: 0.7308\n",
            "Epoch 3/50\n",
            "18059/18059 [==============================] - 2s 129us/step - loss: 0.0025 - acc: 0.0000e+00 - coeff_determination: 0.7441 - val_loss: 0.0048 - val_acc: 0.0000e+00 - val_coeff_determination: 0.5817\n",
            "Epoch 4/50\n",
            "18059/18059 [==============================] - 2s 128us/step - loss: 0.0024 - acc: 0.0000e+00 - coeff_determination: 0.7537 - val_loss: 0.0030 - val_acc: 0.0000e+00 - val_coeff_determination: 0.7388\n",
            "Epoch 5/50\n",
            "18059/18059 [==============================] - 2s 129us/step - loss: 0.0020 - acc: 0.0000e+00 - coeff_determination: 0.7937 - val_loss: 0.0028 - val_acc: 0.0000e+00 - val_coeff_determination: 0.7559\n",
            "Epoch 6/50\n",
            "18059/18059 [==============================] - 2s 130us/step - loss: 0.0020 - acc: 0.0000e+00 - coeff_determination: 0.7903 - val_loss: 0.0022 - val_acc: 0.0000e+00 - val_coeff_determination: 0.8081\n",
            "Epoch 7/50\n",
            "18059/18059 [==============================] - 2s 130us/step - loss: 0.0018 - acc: 0.0000e+00 - coeff_determination: 0.8152 - val_loss: 0.0023 - val_acc: 0.0000e+00 - val_coeff_determination: 0.7995\n",
            "Epoch 8/50\n",
            "18059/18059 [==============================] - 2s 130us/step - loss: 0.0017 - acc: 0.0000e+00 - coeff_determination: 0.8242 - val_loss: 0.0020 - val_acc: 0.0000e+00 - val_coeff_determination: 0.8266\n",
            "Epoch 9/50\n",
            "18059/18059 [==============================] - 2s 129us/step - loss: 0.0016 - acc: 0.0000e+00 - coeff_determination: 0.8339 - val_loss: 0.0021 - val_acc: 0.0000e+00 - val_coeff_determination: 0.8186\n",
            "Epoch 10/50\n",
            "18059/18059 [==============================] - 2s 129us/step - loss: 0.0015 - acc: 0.0000e+00 - coeff_determination: 0.8447 - val_loss: 0.0023 - val_acc: 0.0000e+00 - val_coeff_determination: 0.7983\n",
            "Epoch 11/50\n",
            "18059/18059 [==============================] - 2s 130us/step - loss: 0.0016 - acc: 0.0000e+00 - coeff_determination: 0.8359 - val_loss: 0.0018 - val_acc: 0.0000e+00 - val_coeff_determination: 0.8406\n",
            "Epoch 12/50\n",
            "18059/18059 [==============================] - 2s 130us/step - loss: 0.0014 - acc: 0.0000e+00 - coeff_determination: 0.8572 - val_loss: 0.0027 - val_acc: 0.0000e+00 - val_coeff_determination: 0.7688\n",
            "Epoch 13/50\n",
            "18059/18059 [==============================] - 2s 129us/step - loss: 0.0014 - acc: 0.0000e+00 - coeff_determination: 0.8526 - val_loss: 0.0019 - val_acc: 0.0000e+00 - val_coeff_determination: 0.8355\n",
            "Epoch 14/50\n",
            "18059/18059 [==============================] - 2s 128us/step - loss: 0.0013 - acc: 0.0000e+00 - coeff_determination: 0.8687 - val_loss: 0.0061 - val_acc: 0.0000e+00 - val_coeff_determination: 0.4674\n",
            "Epoch 15/50\n",
            "18059/18059 [==============================] - 2s 130us/step - loss: 0.0015 - acc: 0.0000e+00 - coeff_determination: 0.8429 - val_loss: 0.0016 - val_acc: 0.0000e+00 - val_coeff_determination: 0.8577\n",
            "Epoch 16/50\n",
            "18059/18059 [==============================] - 2s 129us/step - loss: 0.0012 - acc: 0.0000e+00 - coeff_determination: 0.8777 - val_loss: 0.0018 - val_acc: 0.0000e+00 - val_coeff_determination: 0.8464\n",
            "Epoch 17/50\n",
            "18059/18059 [==============================] - 2s 128us/step - loss: 0.0012 - acc: 0.0000e+00 - coeff_determination: 0.8769 - val_loss: 0.0021 - val_acc: 0.0000e+00 - val_coeff_determination: 0.8129\n",
            "Epoch 18/50\n",
            "18059/18059 [==============================] - 2s 132us/step - loss: 0.0012 - acc: 0.0000e+00 - coeff_determination: 0.8793 - val_loss: 0.0015 - val_acc: 0.0000e+00 - val_coeff_determination: 0.8661\n",
            "Epoch 19/50\n",
            "18059/18059 [==============================] - 2s 136us/step - loss: 0.0011 - acc: 0.0000e+00 - coeff_determination: 0.8884 - val_loss: 0.0017 - val_acc: 0.0000e+00 - val_coeff_determination: 0.8467\n",
            "Epoch 20/50\n",
            "18059/18059 [==============================] - 2s 135us/step - loss: 0.0010 - acc: 0.0000e+00 - coeff_determination: 0.8950 - val_loss: 0.0017 - val_acc: 0.0000e+00 - val_coeff_determination: 0.8504\n",
            "Epoch 21/50\n",
            "18059/18059 [==============================] - 2s 138us/step - loss: 0.0010 - acc: 0.0000e+00 - coeff_determination: 0.8910 - val_loss: 0.0013 - val_acc: 0.0000e+00 - val_coeff_determination: 0.8878\n",
            "Epoch 22/50\n",
            "18059/18059 [==============================] - 2s 135us/step - loss: 9.2578e-04 - acc: 0.0000e+00 - coeff_determination: 0.9038 - val_loss: 0.0014 - val_acc: 0.0000e+00 - val_coeff_determination: 0.8754\n",
            "Epoch 23/50\n",
            "18059/18059 [==============================] - 2s 137us/step - loss: 9.4885e-04 - acc: 0.0000e+00 - coeff_determination: 0.9012 - val_loss: 0.0014 - val_acc: 0.0000e+00 - val_coeff_determination: 0.8813\n",
            "Epoch 24/50\n",
            "18059/18059 [==============================] - 2s 136us/step - loss: 9.2243e-04 - acc: 0.0000e+00 - coeff_determination: 0.9037 - val_loss: 0.0013 - val_acc: 0.0000e+00 - val_coeff_determination: 0.8886\n",
            "Epoch 25/50\n",
            "18059/18059 [==============================] - 2s 136us/step - loss: 8.8378e-04 - acc: 0.0000e+00 - coeff_determination: 0.9081 - val_loss: 0.0024 - val_acc: 0.0000e+00 - val_coeff_determination: 0.7864\n",
            "Epoch 26/50\n",
            "18059/18059 [==============================] - 2s 137us/step - loss: 8.4918e-04 - acc: 0.0000e+00 - coeff_determination: 0.9116 - val_loss: 0.0011 - val_acc: 0.0000e+00 - val_coeff_determination: 0.9001\n",
            "Epoch 27/50\n",
            "18059/18059 [==============================] - 2s 134us/step - loss: 7.8908e-04 - acc: 0.0000e+00 - coeff_determination: 0.9178 - val_loss: 0.0013 - val_acc: 0.0000e+00 - val_coeff_determination: 0.8848\n",
            "Epoch 28/50\n",
            "18059/18059 [==============================] - 2s 134us/step - loss: 8.0042e-04 - acc: 0.0000e+00 - coeff_determination: 0.9167 - val_loss: 0.0020 - val_acc: 0.0000e+00 - val_coeff_determination: 0.8222\n",
            "Epoch 29/50\n",
            "18059/18059 [==============================] - 2s 138us/step - loss: 8.5331e-04 - acc: 0.0000e+00 - coeff_determination: 0.9112 - val_loss: 0.0014 - val_acc: 0.0000e+00 - val_coeff_determination: 0.8770\n",
            "Epoch 30/50\n",
            "18059/18059 [==============================] - 2s 133us/step - loss: 7.8762e-04 - acc: 0.0000e+00 - coeff_determination: 0.9179 - val_loss: 0.0016 - val_acc: 0.0000e+00 - val_coeff_determination: 0.8613\n",
            "Epoch 31/50\n",
            "18059/18059 [==============================] - 2s 136us/step - loss: 7.2865e-04 - acc: 0.0000e+00 - coeff_determination: 0.9240 - val_loss: 0.0013 - val_acc: 0.0000e+00 - val_coeff_determination: 0.8819\n",
            "Epoch 32/50\n",
            "18059/18059 [==============================] - 2s 136us/step - loss: 7.7478e-04 - acc: 0.0000e+00 - coeff_determination: 0.9189 - val_loss: 0.0012 - val_acc: 0.0000e+00 - val_coeff_determination: 0.8957\n",
            "Epoch 33/50\n",
            "18059/18059 [==============================] - 2s 135us/step - loss: 7.0595e-04 - acc: 0.0000e+00 - coeff_determination: 0.9263 - val_loss: 0.0014 - val_acc: 0.0000e+00 - val_coeff_determination: 0.8761\n",
            "Epoch 34/50\n",
            "18059/18059 [==============================] - 2s 133us/step - loss: 7.3791e-04 - acc: 0.0000e+00 - coeff_determination: 0.9230 - val_loss: 0.0014 - val_acc: 0.0000e+00 - val_coeff_determination: 0.8804\n",
            "Epoch 35/50\n",
            "18059/18059 [==============================] - 2s 134us/step - loss: 6.6912e-04 - acc: 0.0000e+00 - coeff_determination: 0.9303 - val_loss: 0.0016 - val_acc: 0.0000e+00 - val_coeff_determination: 0.8570\n",
            "Epoch 36/50\n",
            "18059/18059 [==============================] - 2s 136us/step - loss: 6.6344e-04 - acc: 0.0000e+00 - coeff_determination: 0.9307 - val_loss: 0.0012 - val_acc: 0.0000e+00 - val_coeff_determination: 0.8965\n",
            "Epoch 37/50\n",
            "18059/18059 [==============================] - 2s 133us/step - loss: 6.3689e-04 - acc: 0.0000e+00 - coeff_determination: 0.9337 - val_loss: 0.0013 - val_acc: 0.0000e+00 - val_coeff_determination: 0.8849\n",
            "Epoch 38/50\n",
            "18059/18059 [==============================] - 2s 135us/step - loss: 6.3699e-04 - acc: 0.0000e+00 - coeff_determination: 0.9338 - val_loss: 0.0012 - val_acc: 0.0000e+00 - val_coeff_determination: 0.8936\n",
            "Epoch 39/50\n",
            "18059/18059 [==============================] - 2s 132us/step - loss: 6.4245e-04 - acc: 0.0000e+00 - coeff_determination: 0.9331 - val_loss: 0.0022 - val_acc: 0.0000e+00 - val_coeff_determination: 0.8081\n",
            "Epoch 40/50\n",
            "18059/18059 [==============================] - 2s 134us/step - loss: 6.2349e-04 - acc: 0.0000e+00 - coeff_determination: 0.9348 - val_loss: 0.0013 - val_acc: 0.0000e+00 - val_coeff_determination: 0.8899\n",
            "Epoch 41/50\n",
            "18059/18059 [==============================] - 2s 132us/step - loss: 6.2803e-04 - acc: 0.0000e+00 - coeff_determination: 0.9346 - val_loss: 0.0012 - val_acc: 0.0000e+00 - val_coeff_determination: 0.8967\n",
            "Epoch 42/50\n",
            "18059/18059 [==============================] - 2s 131us/step - loss: 5.6087e-04 - acc: 0.0000e+00 - coeff_determination: 0.9415 - val_loss: 0.0011 - val_acc: 0.0000e+00 - val_coeff_determination: 0.9040\n",
            "Epoch 43/50\n",
            "18059/18059 [==============================] - 2s 132us/step - loss: 5.1637e-04 - acc: 0.0000e+00 - coeff_determination: 0.9461 - val_loss: 0.0014 - val_acc: 0.0000e+00 - val_coeff_determination: 0.8741\n",
            "Epoch 44/50\n",
            "18059/18059 [==============================] - 2s 131us/step - loss: 5.7233e-04 - acc: 0.0000e+00 - coeff_determination: 0.9404 - val_loss: 0.0012 - val_acc: 0.0000e+00 - val_coeff_determination: 0.8971\n",
            "Epoch 45/50\n",
            "18059/18059 [==============================] - 2s 136us/step - loss: 5.4883e-04 - acc: 0.0000e+00 - coeff_determination: 0.9428 - val_loss: 0.0014 - val_acc: 0.0000e+00 - val_coeff_determination: 0.8809\n",
            "Epoch 46/50\n",
            "18059/18059 [==============================] - 2s 135us/step - loss: 5.3388e-04 - acc: 0.0000e+00 - coeff_determination: 0.9443 - val_loss: 0.0018 - val_acc: 0.0000e+00 - val_coeff_determination: 0.8403\n",
            "Epoch 47/50\n",
            "18059/18059 [==============================] - 2s 136us/step - loss: 5.1472e-04 - acc: 0.0000e+00 - coeff_determination: 0.9463 - val_loss: 0.0013 - val_acc: 0.0000e+00 - val_coeff_determination: 0.8895\n",
            "Epoch 48/50\n",
            "18059/18059 [==============================] - 2s 137us/step - loss: 5.2402e-04 - acc: 0.0000e+00 - coeff_determination: 0.9454 - val_loss: 0.0013 - val_acc: 0.0000e+00 - val_coeff_determination: 0.8889\n",
            "Epoch 49/50\n",
            "18059/18059 [==============================] - 2s 135us/step - loss: 5.2306e-04 - acc: 0.0000e+00 - coeff_determination: 0.9455 - val_loss: 0.0013 - val_acc: 0.0000e+00 - val_coeff_determination: 0.8910\n",
            "Epoch 50/50\n",
            "18059/18059 [==============================] - 2s 133us/step - loss: 5.0530e-04 - acc: 0.0000e+00 - coeff_determination: 0.9473 - val_loss: 0.0012 - val_acc: 0.0000e+00 - val_coeff_determination: 0.8962\n"
          ],
          "name": "stdout"
        }
      ]
    },
    {
      "cell_type": "code",
      "metadata": {
        "id": "qpLL9JSdRQik",
        "colab_type": "code",
        "colab": {
          "base_uri": "https://localhost:8080/",
          "height": 538
        },
        "outputId": "7f1c5a7c-0e60-4fb0-bca8-18223ef45c1c"
      },
      "source": [
        "model.summary()"
      ],
      "execution_count": 47,
      "outputs": [
        {
          "output_type": "stream",
          "text": [
            "Model: \"sequential_4\"\n",
            "_________________________________________________________________\n",
            "Layer (type)                 Output Shape              Param #   \n",
            "=================================================================\n",
            "conv2d_14 (Conv2D)           (None, 60, 60, 16)        416       \n",
            "_________________________________________________________________\n",
            "max_pooling2d_13 (MaxPooling (None, 30, 30, 16)        0         \n",
            "_________________________________________________________________\n",
            "conv2d_15 (Conv2D)           (None, 26, 26, 16)        6416      \n",
            "_________________________________________________________________\n",
            "max_pooling2d_14 (MaxPooling (None, 13, 13, 16)        0         \n",
            "_________________________________________________________________\n",
            "conv2d_16 (Conv2D)           (None, 11, 11, 32)        4640      \n",
            "_________________________________________________________________\n",
            "max_pooling2d_15 (MaxPooling (None, 5, 5, 32)          0         \n",
            "_________________________________________________________________\n",
            "conv2d_17 (Conv2D)           (None, 3, 3, 32)          9248      \n",
            "_________________________________________________________________\n",
            "max_pooling2d_16 (MaxPooling (None, 1, 1, 32)          0         \n",
            "_________________________________________________________________\n",
            "flatten_3 (Flatten)          (None, 32)                0         \n",
            "_________________________________________________________________\n",
            "dense_5 (Dense)              (None, 256)               8448      \n",
            "_________________________________________________________________\n",
            "dense_6 (Dense)              (None, 1)                 257       \n",
            "=================================================================\n",
            "Total params: 29,425\n",
            "Trainable params: 29,425\n",
            "Non-trainable params: 0\n",
            "_________________________________________________________________\n"
          ],
          "name": "stdout"
        }
      ]
    },
    {
      "cell_type": "code",
      "metadata": {
        "id": "Y3mHlZtbbYzd",
        "colab_type": "code",
        "colab": {
          "base_uri": "https://localhost:8080/",
          "height": 404
        },
        "outputId": "5f91c79a-cd6d-4a3a-acef-6a2589886f65"
      },
      "source": [
        "#=======================plot of the loss function vs epoch number for the training set and the test set===================#\n",
        "plt.figure(figsize=(10,6))\n",
        "plt.plot(history.history['loss'])\n",
        "plt.plot(history.history['val_loss'])\n",
        "plt.title('plot of the loss function vs epoch number')\n",
        "plt.ylabel('loss')\n",
        "plt.xlabel('epoch')\n",
        "plt.legend(['train', 'test'], loc='upper left')\n",
        "plt.show()"
      ],
      "execution_count": 48,
      "outputs": [
        {
          "output_type": "display_data",
          "data": {
            "image/png": "[encoded data removed]",
            "text/plain": [
              "<Figure size 720x432 with 1 Axes>"
            ]
          },
          "metadata": {
            "tags": []
          }
        }
      ]
    },
    {
      "cell_type": "code",
      "metadata": {
        "id": "IRVNcqy9adDf",
        "colab_type": "code",
        "colab": {
          "base_uri": "https://localhost:8080/",
          "height": 404
        },
        "outputId": "eb014d52-3158-4fb9-b1cc-5cc5a989cc52"
      },
      "source": [
        "#=====================plot of the training and test R 2 vs epoch number========================#\n",
        "plt.figure(figsize=(10,6))\n",
        "plt.plot(history.history[\"coeff_determination\"])\n",
        "plt.plot(history.history['val_coeff_determination'])\n",
        "plt.title('plot of the training and test R2 Score vs epoch number')\n",
        "plt.ylabel('R_squared')\n",
        "plt.xlabel('epoch')\n",
        "plt.legend(['train', 'test'], loc='upper left')\n",
        "plt.show()"
      ],
      "execution_count": 49,
      "outputs": [
        {
          "output_type": "display_data",
          "data": {
            "image/png": "[encoded data removed]",
            "text/plain": [
              "<Figure size 720x432 with 1 Axes>"
            ]
          },
          "metadata": {
            "tags": []
          }
        }
      ]
    },
    {
      "cell_type": "code",
      "metadata": {
        "id": "Mx-D-i_8plKR",
        "colab_type": "code",
        "colab": {
          "base_uri": "https://localhost:8080/",
          "height": 34
        },
        "outputId": "6ba17a0f-e388-4adf-e5a2-1f03a50acbf4"
      },
      "source": [
        "#===================Making table of prediction and actual value==================#\n",
        "prediction = model.predict(X_test)\n",
        "actual = y_test\n",
        "from sklearn.metrics import r2_score,mean_squared_error\n",
        "R2_score = r2_score(actual,prediction)\n",
        "print(\"R2 score for test_dataset is:\",R2_score)\n",
        "model.save('adam_resolution_model.h5')"
      ],
      "execution_count": 50,
      "outputs": [
        {
          "output_type": "stream",
          "text": [
            "R2 score for test_dataset is: 0.8979962241462474\n"
          ],
          "name": "stdout"
        }
      ]
    },
    {
      "cell_type": "code",
      "metadata": {
        "id": "QCcrzZSduupB",
        "colab_type": "code",
        "colab": {}
      },
      "source": [
        "model.save('adam_resolution_model.h5')"
      ],
      "execution_count": 0,
      "outputs": []
    },
    {
      "cell_type": "code",
      "metadata": {
        "id": "FO1KjeiD9VWV",
        "colab_type": "code",
        "colab": {}
      },
      "source": [
        "#=============================SGD optimizer and lambda = 0.0001========================#"
      ],
      "execution_count": 0,
      "outputs": []
    },
    {
      "cell_type": "code",
      "metadata": {
        "id": "-pcj0tJh9klK",
        "colab_type": "code",
        "colab": {
          "base_uri": "https://localhost:8080/",
          "height": 1000
        },
        "outputId": "efd27ca5-6a2b-404e-d51a-15e54529b07a"
      },
      "source": [
        "sgd = optimizers.SGD(lr=0.001, decay=0.0001,momentum=0.9, nesterov=True)\n",
        "model.compile(loss=\"mean_squared_error\",optimizer= sgd ,metrics=[\"accuracy\",coeff_determination])\n",
        "history = model.fit(X_train,y_train,batch_size=128,epochs=50,verbose=1,validation_data=(X_test, y_test))"
      ],
      "execution_count": 53,
      "outputs": [
        {
          "output_type": "stream",
          "text": [
            "Train on 18059 samples, validate on 2261 samples\n",
            "Epoch 1/50\n",
            "18059/18059 [==============================] - 3s 155us/step - loss: 4.0719e-04 - acc: 0.0000e+00 - coeff_determination: 0.9575 - val_loss: 0.0011 - val_acc: 0.0000e+00 - val_coeff_determination: 0.9022\n",
            "Epoch 2/50\n",
            "18059/18059 [==============================] - 2s 129us/step - loss: 3.8127e-04 - acc: 0.0000e+00 - coeff_determination: 0.9602 - val_loss: 0.0011 - val_acc: 0.0000e+00 - val_coeff_determination: 0.9031\n",
            "Epoch 3/50\n",
            "18059/18059 [==============================] - 2s 131us/step - loss: 3.7221e-04 - acc: 0.0000e+00 - coeff_determination: 0.9611 - val_loss: 0.0011 - val_acc: 0.0000e+00 - val_coeff_determination: 0.9034\n",
            "Epoch 4/50\n",
            "18059/18059 [==============================] - 2s 130us/step - loss: 3.6719e-04 - acc: 0.0000e+00 - coeff_determination: 0.9616 - val_loss: 0.0011 - val_acc: 0.0000e+00 - val_coeff_determination: 0.9034\n",
            "Epoch 5/50\n",
            "18059/18059 [==============================] - 2s 133us/step - loss: 3.6430e-04 - acc: 0.0000e+00 - coeff_determination: 0.9621 - val_loss: 0.0011 - val_acc: 0.0000e+00 - val_coeff_determination: 0.9032\n",
            "Epoch 6/50\n",
            "18059/18059 [==============================] - 2s 129us/step - loss: 3.6270e-04 - acc: 0.0000e+00 - coeff_determination: 0.9622 - val_loss: 0.0011 - val_acc: 0.0000e+00 - val_coeff_determination: 0.9036\n",
            "Epoch 7/50\n",
            "18059/18059 [==============================] - 2s 127us/step - loss: 3.6187e-04 - acc: 0.0000e+00 - coeff_determination: 0.9623 - val_loss: 0.0011 - val_acc: 0.0000e+00 - val_coeff_determination: 0.9036\n",
            "Epoch 8/50\n",
            "18059/18059 [==============================] - 2s 130us/step - loss: 3.5992e-04 - acc: 0.0000e+00 - coeff_determination: 0.9625 - val_loss: 0.0011 - val_acc: 0.0000e+00 - val_coeff_determination: 0.9031\n",
            "Epoch 9/50\n",
            "18059/18059 [==============================] - 2s 132us/step - loss: 3.5901e-04 - acc: 0.0000e+00 - coeff_determination: 0.9627 - val_loss: 0.0011 - val_acc: 0.0000e+00 - val_coeff_determination: 0.9032\n",
            "Epoch 10/50\n",
            "18059/18059 [==============================] - 2s 133us/step - loss: 3.5855e-04 - acc: 0.0000e+00 - coeff_determination: 0.9625 - val_loss: 0.0011 - val_acc: 0.0000e+00 - val_coeff_determination: 0.9038\n",
            "Epoch 11/50\n",
            "18059/18059 [==============================] - 2s 132us/step - loss: 3.5777e-04 - acc: 0.0000e+00 - coeff_determination: 0.9628 - val_loss: 0.0011 - val_acc: 0.0000e+00 - val_coeff_determination: 0.9039\n",
            "Epoch 12/50\n",
            "18059/18059 [==============================] - 2s 134us/step - loss: 3.5693e-04 - acc: 0.0000e+00 - coeff_determination: 0.9628 - val_loss: 0.0011 - val_acc: 0.0000e+00 - val_coeff_determination: 0.9036\n",
            "Epoch 13/50\n",
            "18059/18059 [==============================] - 2s 131us/step - loss: 3.5630e-04 - acc: 0.0000e+00 - coeff_determination: 0.9629 - val_loss: 0.0011 - val_acc: 0.0000e+00 - val_coeff_determination: 0.9035\n",
            "Epoch 14/50\n",
            "18059/18059 [==============================] - 2s 132us/step - loss: 3.5531e-04 - acc: 0.0000e+00 - coeff_determination: 0.9630 - val_loss: 0.0011 - val_acc: 0.0000e+00 - val_coeff_determination: 0.9037\n",
            "Epoch 15/50\n",
            "18059/18059 [==============================] - 2s 130us/step - loss: 3.5516e-04 - acc: 0.0000e+00 - coeff_determination: 0.9631 - val_loss: 0.0011 - val_acc: 0.0000e+00 - val_coeff_determination: 0.9037\n",
            "Epoch 16/50\n",
            "18059/18059 [==============================] - 2s 135us/step - loss: 3.5441e-04 - acc: 0.0000e+00 - coeff_determination: 0.9631 - val_loss: 0.0011 - val_acc: 0.0000e+00 - val_coeff_determination: 0.9039\n",
            "Epoch 17/50\n",
            "18059/18059 [==============================] - 2s 133us/step - loss: 3.5398e-04 - acc: 0.0000e+00 - coeff_determination: 0.9631 - val_loss: 0.0011 - val_acc: 0.0000e+00 - val_coeff_determination: 0.9039\n",
            "Epoch 18/50\n",
            "18059/18059 [==============================] - 2s 131us/step - loss: 3.5425e-04 - acc: 0.0000e+00 - coeff_determination: 0.9631 - val_loss: 0.0011 - val_acc: 0.0000e+00 - val_coeff_determination: 0.9039\n",
            "Epoch 19/50\n",
            "18059/18059 [==============================] - 2s 134us/step - loss: 3.5285e-04 - acc: 0.0000e+00 - coeff_determination: 0.9632 - val_loss: 0.0011 - val_acc: 0.0000e+00 - val_coeff_determination: 0.9040\n",
            "Epoch 20/50\n",
            "18059/18059 [==============================] - 2s 130us/step - loss: 3.5262e-04 - acc: 0.0000e+00 - coeff_determination: 0.9632 - val_loss: 0.0011 - val_acc: 0.0000e+00 - val_coeff_determination: 0.9039\n",
            "Epoch 21/50\n",
            "18059/18059 [==============================] - 2s 130us/step - loss: 3.5232e-04 - acc: 0.0000e+00 - coeff_determination: 0.9632 - val_loss: 0.0011 - val_acc: 0.0000e+00 - val_coeff_determination: 0.9041\n",
            "Epoch 22/50\n",
            "18059/18059 [==============================] - 2s 128us/step - loss: 3.5200e-04 - acc: 0.0000e+00 - coeff_determination: 0.9633 - val_loss: 0.0011 - val_acc: 0.0000e+00 - val_coeff_determination: 0.9039\n",
            "Epoch 23/50\n",
            "18059/18059 [==============================] - 2s 132us/step - loss: 3.5156e-04 - acc: 0.0000e+00 - coeff_determination: 0.9634 - val_loss: 0.0011 - val_acc: 0.0000e+00 - val_coeff_determination: 0.9040\n",
            "Epoch 24/50\n",
            "18059/18059 [==============================] - 2s 128us/step - loss: 3.5132e-04 - acc: 0.0000e+00 - coeff_determination: 0.9634 - val_loss: 0.0011 - val_acc: 0.0000e+00 - val_coeff_determination: 0.9039\n",
            "Epoch 25/50\n",
            "18059/18059 [==============================] - 2s 129us/step - loss: 3.5117e-04 - acc: 0.0000e+00 - coeff_determination: 0.9634 - val_loss: 0.0011 - val_acc: 0.0000e+00 - val_coeff_determination: 0.9038\n",
            "Epoch 26/50\n",
            "18059/18059 [==============================] - 2s 129us/step - loss: 3.5048e-04 - acc: 0.0000e+00 - coeff_determination: 0.9635 - val_loss: 0.0011 - val_acc: 0.0000e+00 - val_coeff_determination: 0.9041\n",
            "Epoch 27/50\n",
            "18059/18059 [==============================] - 2s 134us/step - loss: 3.5049e-04 - acc: 0.0000e+00 - coeff_determination: 0.9635 - val_loss: 0.0011 - val_acc: 0.0000e+00 - val_coeff_determination: 0.9040\n",
            "Epoch 28/50\n",
            "18059/18059 [==============================] - 2s 132us/step - loss: 3.5010e-04 - acc: 0.0000e+00 - coeff_determination: 0.9635 - val_loss: 0.0011 - val_acc: 0.0000e+00 - val_coeff_determination: 0.9039\n",
            "Epoch 29/50\n",
            "18059/18059 [==============================] - 2s 132us/step - loss: 3.5010e-04 - acc: 0.0000e+00 - coeff_determination: 0.9635 - val_loss: 0.0011 - val_acc: 0.0000e+00 - val_coeff_determination: 0.9040\n",
            "Epoch 30/50\n",
            "18059/18059 [==============================] - 2s 129us/step - loss: 3.4986e-04 - acc: 0.0000e+00 - coeff_determination: 0.9635 - val_loss: 0.0011 - val_acc: 0.0000e+00 - val_coeff_determination: 0.9039\n",
            "Epoch 31/50\n",
            "18059/18059 [==============================] - 2s 128us/step - loss: 3.4958e-04 - acc: 0.0000e+00 - coeff_determination: 0.9635 - val_loss: 0.0011 - val_acc: 0.0000e+00 - val_coeff_determination: 0.9043\n",
            "Epoch 32/50\n",
            "18059/18059 [==============================] - 2s 129us/step - loss: 3.4955e-04 - acc: 0.0000e+00 - coeff_determination: 0.9636 - val_loss: 0.0011 - val_acc: 0.0000e+00 - val_coeff_determination: 0.9043\n",
            "Epoch 33/50\n",
            "18059/18059 [==============================] - 2s 129us/step - loss: 3.4923e-04 - acc: 0.0000e+00 - coeff_determination: 0.9637 - val_loss: 0.0011 - val_acc: 0.0000e+00 - val_coeff_determination: 0.9040\n",
            "Epoch 34/50\n",
            "18059/18059 [==============================] - 2s 131us/step - loss: 3.4901e-04 - acc: 0.0000e+00 - coeff_determination: 0.9635 - val_loss: 0.0011 - val_acc: 0.0000e+00 - val_coeff_determination: 0.9042\n",
            "Epoch 35/50\n",
            "18059/18059 [==============================] - 2s 131us/step - loss: 3.4886e-04 - acc: 0.0000e+00 - coeff_determination: 0.9636 - val_loss: 0.0011 - val_acc: 0.0000e+00 - val_coeff_determination: 0.9043\n",
            "Epoch 36/50\n",
            "18059/18059 [==============================] - 2s 131us/step - loss: 3.4859e-04 - acc: 0.0000e+00 - coeff_determination: 0.9637 - val_loss: 0.0011 - val_acc: 0.0000e+00 - val_coeff_determination: 0.9044\n",
            "Epoch 37/50\n",
            "18059/18059 [==============================] - 2s 128us/step - loss: 3.4857e-04 - acc: 0.0000e+00 - coeff_determination: 0.9637 - val_loss: 0.0011 - val_acc: 0.0000e+00 - val_coeff_determination: 0.9043\n",
            "Epoch 38/50\n",
            "18059/18059 [==============================] - 2s 129us/step - loss: 3.4833e-04 - acc: 0.0000e+00 - coeff_determination: 0.9636 - val_loss: 0.0011 - val_acc: 0.0000e+00 - val_coeff_determination: 0.9039\n",
            "Epoch 39/50\n",
            "18059/18059 [==============================] - 2s 131us/step - loss: 3.4831e-04 - acc: 0.0000e+00 - coeff_determination: 0.9637 - val_loss: 0.0011 - val_acc: 0.0000e+00 - val_coeff_determination: 0.9042\n",
            "Epoch 40/50\n",
            "18059/18059 [==============================] - 2s 132us/step - loss: 3.4844e-04 - acc: 0.0000e+00 - coeff_determination: 0.9637 - val_loss: 0.0011 - val_acc: 0.0000e+00 - val_coeff_determination: 0.9044\n",
            "Epoch 41/50\n",
            "18059/18059 [==============================] - 2s 129us/step - loss: 3.4753e-04 - acc: 0.0000e+00 - coeff_determination: 0.9638 - val_loss: 0.0011 - val_acc: 0.0000e+00 - val_coeff_determination: 0.9038\n",
            "Epoch 42/50\n",
            "18059/18059 [==============================] - 2s 128us/step - loss: 3.4776e-04 - acc: 0.0000e+00 - coeff_determination: 0.9637 - val_loss: 0.0011 - val_acc: 0.0000e+00 - val_coeff_determination: 0.9042\n",
            "Epoch 43/50\n",
            "18059/18059 [==============================] - 2s 131us/step - loss: 3.4780e-04 - acc: 0.0000e+00 - coeff_determination: 0.9637 - val_loss: 0.0011 - val_acc: 0.0000e+00 - val_coeff_determination: 0.9045\n",
            "Epoch 44/50\n",
            "18059/18059 [==============================] - 2s 131us/step - loss: 3.4734e-04 - acc: 0.0000e+00 - coeff_determination: 0.9638 - val_loss: 0.0011 - val_acc: 0.0000e+00 - val_coeff_determination: 0.9043\n",
            "Epoch 45/50\n",
            "18059/18059 [==============================] - 2s 126us/step - loss: 3.4728e-04 - acc: 0.0000e+00 - coeff_determination: 0.9638 - val_loss: 0.0011 - val_acc: 0.0000e+00 - val_coeff_determination: 0.9044\n",
            "Epoch 46/50\n",
            "18059/18059 [==============================] - 2s 132us/step - loss: 3.4726e-04 - acc: 0.0000e+00 - coeff_determination: 0.9638 - val_loss: 0.0011 - val_acc: 0.0000e+00 - val_coeff_determination: 0.9046\n",
            "Epoch 47/50\n",
            "18059/18059 [==============================] - 2s 132us/step - loss: 3.4728e-04 - acc: 0.0000e+00 - coeff_determination: 0.9638 - val_loss: 0.0011 - val_acc: 0.0000e+00 - val_coeff_determination: 0.9045\n",
            "Epoch 48/50\n",
            "18059/18059 [==============================] - 2s 132us/step - loss: 3.4706e-04 - acc: 0.0000e+00 - coeff_determination: 0.9638 - val_loss: 0.0011 - val_acc: 0.0000e+00 - val_coeff_determination: 0.9042\n",
            "Epoch 49/50\n",
            "18059/18059 [==============================] - 2s 130us/step - loss: 3.4685e-04 - acc: 0.0000e+00 - coeff_determination: 0.9639 - val_loss: 0.0011 - val_acc: 0.0000e+00 - val_coeff_determination: 0.9045\n",
            "Epoch 50/50\n",
            "18059/18059 [==============================] - 2s 132us/step - loss: 3.4664e-04 - acc: 0.0000e+00 - coeff_determination: 0.9639 - val_loss: 0.0011 - val_acc: 0.0000e+00 - val_coeff_determination: 0.9046\n"
          ],
          "name": "stdout"
        }
      ]
    },
    {
      "cell_type": "code",
      "metadata": {
        "id": "MAMgTRhuRaZ0",
        "colab_type": "code",
        "colab": {
          "base_uri": "https://localhost:8080/",
          "height": 538
        },
        "outputId": "7ccadaf7-d5cd-41b1-9cf6-174bfc2a69d5"
      },
      "source": [
        "model.summary()"
      ],
      "execution_count": 54,
      "outputs": [
        {
          "output_type": "stream",
          "text": [
            "Model: \"sequential_4\"\n",
            "_________________________________________________________________\n",
            "Layer (type)                 Output Shape              Param #   \n",
            "=================================================================\n",
            "conv2d_14 (Conv2D)           (None, 60, 60, 16)        416       \n",
            "_________________________________________________________________\n",
            "max_pooling2d_13 (MaxPooling (None, 30, 30, 16)        0         \n",
            "_________________________________________________________________\n",
            "conv2d_15 (Conv2D)           (None, 26, 26, 16)        6416      \n",
            "_________________________________________________________________\n",
            "max_pooling2d_14 (MaxPooling (None, 13, 13, 16)        0         \n",
            "_________________________________________________________________\n",
            "conv2d_16 (Conv2D)           (None, 11, 11, 32)        4640      \n",
            "_________________________________________________________________\n",
            "max_pooling2d_15 (MaxPooling (None, 5, 5, 32)          0         \n",
            "_________________________________________________________________\n",
            "conv2d_17 (Conv2D)           (None, 3, 3, 32)          9248      \n",
            "_________________________________________________________________\n",
            "max_pooling2d_16 (MaxPooling (None, 1, 1, 32)          0         \n",
            "_________________________________________________________________\n",
            "flatten_3 (Flatten)          (None, 32)                0         \n",
            "_________________________________________________________________\n",
            "dense_5 (Dense)              (None, 256)               8448      \n",
            "_________________________________________________________________\n",
            "dense_6 (Dense)              (None, 1)                 257       \n",
            "=================================================================\n",
            "Total params: 29,425\n",
            "Trainable params: 29,425\n",
            "Non-trainable params: 0\n",
            "_________________________________________________________________\n"
          ],
          "name": "stdout"
        }
      ]
    },
    {
      "cell_type": "code",
      "metadata": {
        "id": "2L5aVtAFAOPR",
        "colab_type": "code",
        "colab": {
          "base_uri": "https://localhost:8080/",
          "height": 404
        },
        "outputId": "c5308ac0-341f-418a-9092-faa24d5bc1a0"
      },
      "source": [
        "#=======================plot of the loss function vs epoch number for the training set and the test set===================#\n",
        "plt.figure(figsize=(10,6))\n",
        "plt.plot(history.history['loss'])\n",
        "plt.plot(history.history['val_loss'])\n",
        "plt.title('plot of the loss function vs epoch number')\n",
        "plt.ylabel('loss')\n",
        "plt.xlabel('epoch')\n",
        "plt.legend(['train', 'test'], loc='upper left')\n",
        "plt.show()"
      ],
      "execution_count": 55,
      "outputs": [
        {
          "output_type": "display_data",
          "data": {
            "image/png": "[encoded data removed]",
            "text/plain": [
              "<Figure size 720x432 with 1 Axes>"
            ]
          },
          "metadata": {
            "tags": []
          }
        }
      ]
    },
    {
      "cell_type": "code",
      "metadata": {
        "id": "ln0QzzbxASPv",
        "colab_type": "code",
        "colab": {
          "base_uri": "https://localhost:8080/",
          "height": 404
        },
        "outputId": "2e4198c2-8179-4348-9529-88350027c400"
      },
      "source": [
        "#=====================plot of the training and test R 2 vs epoch number========================#\n",
        "plt.figure(figsize=(10,6))\n",
        "plt.plot(history.history[\"coeff_determination\"])\n",
        "plt.plot(history.history['val_coeff_determination'])\n",
        "plt.title('plot of the training and test R2 Score vs epoch number')\n",
        "plt.ylabel('R_squared')\n",
        "plt.xlabel('epoch')\n",
        "plt.legend(['train', 'test'], loc='upper left')\n",
        "plt.show()"
      ],
      "execution_count": 56,
      "outputs": [
        {
          "output_type": "display_data",
          "data": {
            "image/png": "[encoded data removed]",
            "text/plain": [
              "<Figure size 720x432 with 1 Axes>"
            ]
          },
          "metadata": {
            "tags": []
          }
        }
      ]
    },
    {
      "cell_type": "code",
      "metadata": {
        "id": "VRHG0-UOAfMX",
        "colab_type": "code",
        "colab": {
          "base_uri": "https://localhost:8080/",
          "height": 34
        },
        "outputId": "f949d41f-6898-45ea-9745-790fe1c1abac"
      },
      "source": [
        "#===================Making table of prediction and actual value==================#\n",
        "prediction = model.predict(X_test)\n",
        "actual = y_test\n",
        "from sklearn.metrics import r2_score,mean_squared_error\n",
        "R2_score = r2_score(actual,prediction)\n",
        "print(\"R2 score for test_dataset is:\",R2_score)\n",
        "model.save('sgd_resolution_model.h5')"
      ],
      "execution_count": 57,
      "outputs": [
        {
          "output_type": "stream",
          "text": [
            "R2 score for test_dataset is: 0.9058634296917776\n"
          ],
          "name": "stdout"
        }
      ]
    }
  ]
}